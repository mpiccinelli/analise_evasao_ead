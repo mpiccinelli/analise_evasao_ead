{
 "cells": [
  {
   "cell_type": "markdown",
   "id": "d22481da-44c2-4e51-a32f-a0c2d711c053",
   "metadata": {},
   "source": [
    "# Obtenção e tratamento de dados\n"
   ]
  },
  {
   "cell_type": "markdown",
   "id": "370ec855-083f-4859-bf92-513517deb207",
   "metadata": {
    "jp-MarkdownHeadingCollapsed": true
   },
   "source": [
    "## Obtenção e carregamento de dados\n"
   ]
  },
  {
   "cell_type": "code",
   "execution_count": null,
   "id": "fe43db2f-1929-4b0b-8a5c-23317b96f039",
   "metadata": {},
   "outputs": [],
   "source": [
    "#importação de bibliotecas\n",
    "import pandas as pd\n",
    "import matplotlib.pyplot as plt\n",
    "import numpy as np\n",
    "import itertools\n",
    "from tabulate import tabulate\n",
    "from sklearn.model_selection import train_test_split, cross_val_score\n",
    "from sklearn.preprocessing import OneHotEncoder, StandardScaler\n",
    "from sklearn.linear_model import LogisticRegression\n",
    "from sklearn.pipeline import Pipeline\n",
    "from sklearn.compose import ColumnTransformer\n",
    "from sklearn.metrics import accuracy_score, confusion_matrix, classification_report, precision_recall_fscore_support"
   ]
  },
  {
   "cell_type": "code",
   "execution_count": null,
   "id": "346d7e4c-618a-4b2e-80cb-3c007ebbc59e",
   "metadata": {},
   "outputs": [],
   "source": [
    "#Carregamento de dados limpos da pasta ../data/\n",
    "df = pd.read_csv('../Data/dataset.csv')"
   ]
  },
  {
   "cell_type": "markdown",
   "id": "398162c0",
   "metadata": {},
   "source": [
    "## Informações sobre o dataset\n"
   ]
  },
  {
   "cell_type": "code",
   "execution_count": null,
   "id": "614d22be",
   "metadata": {},
   "outputs": [],
   "source": [
    "#Exibição dos dados\n",
    "df.head()"
   ]
  },
  {
   "cell_type": "code",
   "execution_count": null,
   "id": "e9a15af6",
   "metadata": {},
   "outputs": [],
   "source": [
    "#Exibição de informações sobre os dados\n",
    "df.info()"
   ]
  },
  {
   "cell_type": "code",
   "execution_count": null,
   "id": "5c095b3a",
   "metadata": {},
   "outputs": [],
   "source": [
    "#Exibição de estatísticas descritivas\n",
    "df.describe()"
   ]
  },
  {
   "cell_type": "markdown",
   "id": "9ef91847",
   "metadata": {},
   "source": [
    "## Ajuste de tipos\n"
   ]
  },
  {
   "cell_type": "code",
   "execution_count": null,
   "id": "9a66a139",
   "metadata": {},
   "outputs": [],
   "source": [
    "#Matricula\n",
    "df['dt_matricula'] = pd.to_datetime(df['dt_matricula'])\n",
    "#Saida\n",
    "df['dt_saida'] = pd.to_datetime(df['dt_saida'])\n",
    "#Primeiro login\n",
    "df['primeiro_login'] = pd.to_datetime(df['primeiro_login'])\n",
    "#Ultimo login\n",
    "df['ultimo_login'] = pd.to_datetime(df['ultimo_login'])\n",
    "\n",
    "#Idade\n",
    "df['idade'] = df['idade'].astype('int64')\n",
    "#Total de logins\n",
    "df['total_logins'] = df['total_logins'].astype('int64')\n",
    "#Dias desde o primeiro login\n",
    "df['dias_desde_primeiro_login'] = df['dias_desde_primeiro_login'].astype('int64')\n",
    "# Quantidade Mestrado\n",
    "df['qtd_professores_mestrado'] = df['qtd_professores_mestrado'].astype('int64')\n",
    "# Quantidade Doutorado\n",
    "df['qtd_professores_doutorado'] = df['qtd_professores_doutorado'].astype('int64')\n",
    "# Quantidade Especialização\n",
    "df['qtd_professores_especialista'] = df['qtd_professores_especialista'].astype('int64')\n",
    "# Quantidade Graduado\n",
    "df['qtd_professores_graduado'] = df['qtd_professores_graduado'].astype('int64')\n",
    "# Quantidade de professores Masculino\n",
    "df['qtd_professores_M'] = df['qtd_professores_M'].astype('int64')\n",
    "# Quantidade de professores Feminino\n",
    "df['qtd_professores_F'] = df['qtd_professores_F'].astype('int64')\n",
    "# Menor idade de um professor\n",
    "df['idade_min_professores'] = df['idade_min_professores'].astype('int64')\n",
    "# Maior idade de um professor\n",
    "df['idade_max_professores'] = df['idade_max_professores'].astype('int64')\n",
    "\n",
    "#Data de registro para string\n",
    "df['dt_registro'] = df['dt_registro'].astype(object)\n",
    "#Data de inauguração do curso\n",
    "df['dt_inauguracao_curso'] = df['dt_inauguracao_curso'].astype(object)\n",
    "\n",
    "#Exibição de informações sobre os dados\n",
    "df.info()\n",
    "#Exibição de estatísticas descritivas\n",
    "df.head()\n"
   ]
  },
  {
   "cell_type": "markdown",
   "id": "541eb855",
   "metadata": {},
   "source": [
    "## Tratamento de valores ausentes\n"
   ]
  },
  {
   "cell_type": "code",
   "execution_count": null,
   "id": "137bcf2e",
   "metadata": {},
   "outputs": [],
   "source": [
    "#preenche com o texto \"Abandono\" os valores nulos da coluna 'categoria_motivo_cancelamento'\n",
    "df['categoria_motivo_cancelamento'] = df['categoria_motivo_cancelamento'].fillna('Abandono').where(df['evasao'] == 1, 'NA')\n",
    "\n",
    "#Exibe os valores unicos da coluna 'categoria_motivo_cancelamento'\n",
    "df['categoria_motivo_cancelamento'].unique()"
   ]
  },
  {
   "cell_type": "markdown",
   "id": "4e6e248f",
   "metadata": {},
   "source": [
    "Exibição dos dados\n"
   ]
  },
  {
   "cell_type": "code",
   "execution_count": null,
   "id": "4848e0ee",
   "metadata": {},
   "outputs": [],
   "source": [
    "#Exibe as informações sobre os dados\n",
    "df.info()\n",
    "#Exibe as estatísticas descritivas\n",
    "df.head()"
   ]
  },
  {
   "cell_type": "markdown",
   "id": "007078f6",
   "metadata": {},
   "source": [
    "# Estatísticas (Regressão logística) - Construção do modelo"
   ]
  },
  {
   "cell_type": "markdown",
   "id": "7deab798",
   "metadata": {},
   "source": [
    "## Amostra dos dados"
   ]
  },
  {
   "cell_type": "code",
   "execution_count": null,
   "id": "523c0f31",
   "metadata": {},
   "outputs": [],
   "source": [
    "df.head()"
   ]
  },
  {
   "cell_type": "markdown",
   "id": "570bf02a",
   "metadata": {},
   "source": [
    "## Codificação de variáveis categóricas e numéricas"
   ]
  },
  {
   "cell_type": "code",
   "execution_count": null,
   "id": "eaf38fe3",
   "metadata": {},
   "outputs": [],
   "source": [
    "# Exclua as colunas que não serão usadas\n",
    "df = df.drop(['cd_aluno','nome', 'curso','cidade','titulacao', 'estado', 'semestre_atual','dias_matriculado_semestre','total_logins','qtd_aprovacoes','valor_mensalidade_bruto', 'percentual_desconto','dias_desde_primeiro_login', 'dt_registro', 'dt_inauguracao_curso','dt_matricula', 'dt_saida', 'primeiro_login', 'ultimo_login', 'idade_min_professores', 'idade_max_professores'], axis=1)"
   ]
  },
  {
   "cell_type": "code",
   "execution_count": null,
   "id": "eb22010e",
   "metadata": {},
   "outputs": [],
   "source": [
    "# Defina as colunas numéricas e categóricas\n",
    "num_cols = ['idade', 'valor_mensalidade_liquido', 'qtd_mensalidade_paga_atraso', 'qtd_semestres_curso', 'qtd_reprovacoes', 'coeficiente_rendimento',  'media_acessos_por_dia', 'semestres_existencia_curso', 'qtd_professores', 'qtd_professores_mestrado', 'qtd_professores_doutorado', 'qtd_professores_especialista', 'qtd_professores_graduado', 'qtd_professores_M', 'qtd_professores_F', 'idade_media_professores']\n",
    "cat_cols = ['genero', 'ds_ensino_medio', 'ds_ingresso', 'cd_curso', 'situacao', 'categoria_motivo_cancelamento']"
   ]
  },
  {
   "cell_type": "markdown",
   "id": "05009cea",
   "metadata": {},
   "source": [
    "## Definição do Pré-processador"
   ]
  },
  {
   "cell_type": "code",
   "execution_count": null,
   "id": "48c50c5d",
   "metadata": {},
   "outputs": [],
   "source": [
    "preprocessor = ColumnTransformer(\n",
    "    transformers=[\n",
    "        ('num', StandardScaler(), num_cols),\n",
    "        ('cat', OneHotEncoder(handle_unknown='ignore'), cat_cols)])"
   ]
  },
  {
   "cell_type": "markdown",
   "id": "634a9960",
   "metadata": {},
   "source": [
    "## Definição do modelo"
   ]
  },
  {
   "cell_type": "code",
   "execution_count": null,
   "id": "9eb30b51",
   "metadata": {},
   "outputs": [],
   "source": [
    "model = LogisticRegression(max_iter=1000, penalty='l2', C=0.1)"
   ]
  },
  {
   "cell_type": "markdown",
   "id": "5e154210",
   "metadata": {},
   "source": [
    "## Combinação do pré-processador e do modelo em um pipeline"
   ]
  },
  {
   "cell_type": "code",
   "execution_count": null,
   "id": "6e8b7f62",
   "metadata": {},
   "outputs": [],
   "source": [
    "clf = Pipeline(steps=[('preprocessor', preprocessor), ('classifier', model)])"
   ]
  },
  {
   "cell_type": "markdown",
   "id": "2e3eed04",
   "metadata": {},
   "source": [
    "## Definição de variáveis independentes e dependentes\n"
   ]
  },
  {
   "cell_type": "code",
   "execution_count": null,
   "id": "acbe84d8",
   "metadata": {},
   "outputs": [],
   "source": [
    "X = df.drop(['evasao'], axis=1)\n",
    "y = df['evasao']"
   ]
  },
  {
   "cell_type": "markdown",
   "id": "19fd4da2",
   "metadata": {},
   "source": [
    "## Divisão dos dados em treino e teste\n"
   ]
  },
  {
   "cell_type": "code",
   "execution_count": null,
   "id": "eabfbae3",
   "metadata": {},
   "outputs": [],
   "source": [
    "X_train, X_test, y_train, y_test = train_test_split(X, y, test_size=0.2, random_state=42)\n",
    "\n",
    "# Dividimos o conjunto de treinamento novamente para criar o conjunto de validação\n",
    "X_train, X_val, y_train, y_val = train_test_split(X_train, y_train, test_size=0.25, random_state=42)"
   ]
  },
  {
   "cell_type": "markdown",
   "id": "d7edba80",
   "metadata": {},
   "source": [
    "- X_train e Y_train => Treinamento \n",
    "- X_val e Y_val => Validação\n",
    "- X_test e Y_test => Teste"
   ]
  },
  {
   "cell_type": "markdown",
   "id": "2d67d861",
   "metadata": {},
   "source": [
    "## Treinando e Validando o modelo"
   ]
  },
  {
   "cell_type": "markdown",
   "id": "a968222b",
   "metadata": {},
   "source": [
    "### Treinamento do modelo com os dados de treino"
   ]
  },
  {
   "cell_type": "code",
   "execution_count": null,
   "id": "33478ed5",
   "metadata": {},
   "outputs": [],
   "source": [
    "clf.fit(X_train, y_train)"
   ]
  },
  {
   "cell_type": "markdown",
   "id": "ab2c988b",
   "metadata": {},
   "source": [
    "### Validação do modelo"
   ]
  },
  {
   "cell_type": "code",
   "execution_count": null,
   "id": "05f0e9ce",
   "metadata": {},
   "outputs": [],
   "source": [
    "val_score = clf.score(X_val, y_val)\n",
    "print(f'Acurácia da validação: {val_score}')"
   ]
  },
  {
   "cell_type": "markdown",
   "id": "2e8bb39e",
   "metadata": {},
   "source": [
    "### Treinamento final do modelo com os dados de treino e validação juntos"
   ]
  },
  {
   "cell_type": "code",
   "execution_count": null,
   "id": "b252217a",
   "metadata": {},
   "outputs": [],
   "source": [
    "clf.fit(pd.concat([X_train, X_val]), pd.concat([y_train, y_val]))"
   ]
  },
  {
   "cell_type": "markdown",
   "id": "03749a94",
   "metadata": {},
   "source": [
    "### Teste do modelo"
   ]
  },
  {
   "cell_type": "code",
   "execution_count": null,
   "id": "9b7cb354",
   "metadata": {},
   "outputs": [],
   "source": [
    "test_score = clf.score(X_test, y_test)\n",
    "print(f'Acurácia do teste: {test_score}')"
   ]
  },
  {
   "cell_type": "markdown",
   "id": "4cb649b3",
   "metadata": {},
   "source": [
    "# Estatísticas (Regressão logística) - Previsões e avaliação"
   ]
  },
  {
   "cell_type": "markdown",
   "id": "6249d976",
   "metadata": {},
   "source": [
    "## Fazendo previsões"
   ]
  },
  {
   "cell_type": "code",
   "execution_count": null,
   "id": "7909ebde",
   "metadata": {},
   "outputs": [],
   "source": [
    "y_pred = clf.predict(X_test)"
   ]
  },
  {
   "cell_type": "markdown",
   "id": "f695edf7",
   "metadata": {},
   "source": [
    "## Calculando a acurácia"
   ]
  },
  {
   "cell_type": "markdown",
   "id": "c0b0752e",
   "metadata": {},
   "source": [
    "#### Acurácia do modelo"
   ]
  },
  {
   "cell_type": "code",
   "execution_count": null,
   "id": "062f43c2",
   "metadata": {},
   "outputs": [],
   "source": [
    "accuracy = accuracy_score(y_test, y_pred)\n",
    "print('Accuracia da previsão: {:.2f}'.format(accuracy))"
   ]
  },
  {
   "cell_type": "markdown",
   "id": "178f73b9",
   "metadata": {},
   "source": [
    "#### Validação cruzada"
   ]
  },
  {
   "cell_type": "code",
   "execution_count": null,
   "id": "778e8535",
   "metadata": {},
   "outputs": [],
   "source": [
    "# Definindo o número de folds para a validação cruzada\n",
    "cv = 5\n",
    "\n",
    "# Realizando a validação cruzada\n",
    "scores = cross_val_score(clf, X, y, cv=cv)\n",
    "\n",
    "print(f'Acurácia da validação cruzada: {scores.mean()} +/- {scores.std()}')"
   ]
  },
  {
   "cell_type": "markdown",
   "id": "aecdc1dd",
   "metadata": {},
   "source": [
    "## Matriz de confusão"
   ]
  },
  {
   "cell_type": "code",
   "execution_count": null,
   "id": "987a4ce7",
   "metadata": {},
   "outputs": [],
   "source": [
    "# Calculando a matriz de confusão\n",
    "conf_mat = confusion_matrix(y_test, y_pred)\n",
    "\n",
    "# Criando um gráfico\n",
    "fig, ax = plt.subplots( figsize=(10, 6))\n",
    "\n",
    "# Criando um mapa de calor\n",
    "cax = ax.matshow(conf_mat, cmap=plt.cm.viridis, alpha=0.8)\n",
    "\n",
    "# Adicionando os valores das células\n",
    "for i, j in itertools.product(range(conf_mat.shape[0]), range(conf_mat.shape[1])):\n",
    "    plt.text(j, i, f'{conf_mat[i, j]}', horizontalalignment='center', color='black', fontsize=14)\n",
    "\n",
    "# Adicionando rótulos aos eixos\n",
    "plt.xlabel('Valores Previstos')\n",
    "plt.ylabel('Valores Verdadeiros')\n",
    "plt.title('Matriz de Confusão')\n",
    "plt.xticks(np.arange(2), ['Não evadidos', 'Evadidos'])\n",
    "plt.yticks(np.arange(2), ['Não evadidos', 'Evadidos'])\n",
    "plt.show()"
   ]
  },
  {
   "cell_type": "markdown",
   "id": "151fcbb3",
   "metadata": {},
   "source": [
    "## Relatório de classificação"
   ]
  },
  {
   "cell_type": "code",
   "execution_count": null,
   "id": "e912e8b0",
   "metadata": {},
   "outputs": [],
   "source": [
    "y_test_labels = y_test.map({0: 'Não Evadido', 1: 'Evadido'})\n",
    "y_pred_labels = pd.Series(y_pred).map({0: 'Não Evadido', 1: 'Evadido'})\n",
    "\n",
    "# Cria o relatório de classificação\n",
    "report = classification_report(y_test_labels, y_pred_labels, output_dict=True)\n",
    "\n",
    "# Criando um DataFrame a partir do relatório de classificação\n",
    "report_df = pd.DataFrame(report).transpose()\n",
    "\n",
    "# Exibindo as métricas de precisão, recall, f-score e suporte\n",
    "report_df.head()"
   ]
  }
 ],
 "metadata": {
  "kernelspec": {
   "display_name": "Python 3 (ipykernel)",
   "language": "python",
   "name": "python3"
  },
  "language_info": {
   "codemirror_mode": {
    "name": "ipython",
    "version": 3
   },
   "file_extension": ".py",
   "mimetype": "text/x-python",
   "name": "python",
   "nbconvert_exporter": "python",
   "pygments_lexer": "ipython3",
   "version": "3.11.7"
  }
 },
 "nbformat": 4,
 "nbformat_minor": 5
}
