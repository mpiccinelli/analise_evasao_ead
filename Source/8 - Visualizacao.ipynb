{
 "cells": [
  {
   "cell_type": "markdown",
   "id": "d22481da-44c2-4e51-a32f-a0c2d711c053",
   "metadata": {},
   "source": [
    "# Obtenção e tratamento de dados\n"
   ]
  },
  {
   "cell_type": "markdown",
   "id": "370ec855-083f-4859-bf92-513517deb207",
   "metadata": {
    "jp-MarkdownHeadingCollapsed": true
   },
   "source": [
    "## Obtenção e carregamento de dados\n"
   ]
  },
  {
   "cell_type": "code",
   "execution_count": null,
   "id": "fe43db2f-1929-4b0b-8a5c-23317b96f039",
   "metadata": {},
   "outputs": [],
   "source": [
    "#importação de bibliotecas\n",
    "import pandas as pd\n",
    "import matplotlib.pyplot as plt\n",
    "import seaborn as sns\n",
    "import numpy as np"
   ]
  },
  {
   "cell_type": "code",
   "execution_count": null,
   "id": "346d7e4c-618a-4b2e-80cb-3c007ebbc59e",
   "metadata": {},
   "outputs": [],
   "source": [
    "#Carregamento de dados limpos da pasta ../data/\n",
    "df = pd.read_csv('../Data/dataset.csv')"
   ]
  },
  {
   "cell_type": "markdown",
   "id": "398162c0",
   "metadata": {},
   "source": [
    "## Informações sobre o dataset\n"
   ]
  },
  {
   "cell_type": "code",
   "execution_count": null,
   "id": "614d22be",
   "metadata": {},
   "outputs": [],
   "source": [
    "#Exibição dos dados\n",
    "df.head()"
   ]
  },
  {
   "cell_type": "code",
   "execution_count": null,
   "id": "e9a15af6",
   "metadata": {},
   "outputs": [],
   "source": [
    "#Exibição de informações sobre os dados\n",
    "df.info()"
   ]
  },
  {
   "cell_type": "code",
   "execution_count": null,
   "id": "5c095b3a",
   "metadata": {},
   "outputs": [],
   "source": [
    "#Exibição de estatísticas descritivas\n",
    "df.describe()"
   ]
  },
  {
   "cell_type": "markdown",
   "id": "9ef91847",
   "metadata": {},
   "source": [
    "## Ajuste de tipos\n"
   ]
  },
  {
   "cell_type": "code",
   "execution_count": null,
   "id": "9a66a139",
   "metadata": {},
   "outputs": [],
   "source": [
    "#Matricula\n",
    "df['dt_matricula'] = pd.to_datetime(df['dt_matricula'])\n",
    "#Saida\n",
    "df['dt_saida'] = pd.to_datetime(df['dt_saida'])\n",
    "#Primeiro login\n",
    "df['primeiro_login'] = pd.to_datetime(df['primeiro_login'])\n",
    "#Ultimo login\n",
    "df['ultimo_login'] = pd.to_datetime(df['ultimo_login'])\n",
    "\n",
    "#Idade\n",
    "df['idade'] = df['idade'].astype('int64')\n",
    "#Total de logins\n",
    "df['total_logins'] = df['total_logins'].astype('int64')\n",
    "#Dias desde o primeiro login\n",
    "df['dias_desde_primeiro_login'] = df['dias_desde_primeiro_login'].astype('int64')\n",
    "# Quantidade Mestrado\n",
    "df['qtd_professores_mestrado'] = df['qtd_professores_mestrado'].astype('int64')\n",
    "# Quantidade Doutorado\n",
    "df['qtd_professores_doutorado'] = df['qtd_professores_doutorado'].astype('int64')\n",
    "# Quantidade Especialização\n",
    "df['qtd_professores_especialista'] = df['qtd_professores_especialista'].astype('int64')\n",
    "# Quantidade Graduado\n",
    "df['qtd_professores_graduado'] = df['qtd_professores_graduado'].astype('int64')\n",
    "# Quantidade de professores Masculino\n",
    "df['qtd_professores_M'] = df['qtd_professores_M'].astype('int64')\n",
    "# Quantidade de professores Feminino\n",
    "df['qtd_professores_F'] = df['qtd_professores_F'].astype('int64')\n",
    "# Menor idade de um professor\n",
    "df['idade_min_professores'] = df['idade_min_professores'].astype('int64')\n",
    "# Maior idade de um professor\n",
    "df['idade_max_professores'] = df['idade_max_professores'].astype('int64')\n",
    "\n",
    "#Data de registro para string\n",
    "df['dt_registro'] = df['dt_registro'].astype(object)\n",
    "#Data de inauguração do curso\n",
    "df['dt_inauguracao_curso'] = df['dt_inauguracao_curso'].astype(object)\n",
    "\n",
    "#Exibição de informações sobre os dados\n",
    "df.info()\n",
    "#Exibição de estatísticas descritivas\n",
    "df.head()\n"
   ]
  },
  {
   "cell_type": "markdown",
   "id": "541eb855",
   "metadata": {},
   "source": [
    "## Tratamento de valores ausentes\n"
   ]
  },
  {
   "cell_type": "code",
   "execution_count": null,
   "id": "137bcf2e",
   "metadata": {},
   "outputs": [],
   "source": [
    "#preenche com o texto \"Abandono\" os valores nulos da coluna 'categoria_motivo_cancelamento'\n",
    "df['categoria_motivo_cancelamento'] = df['categoria_motivo_cancelamento'].fillna('Abandono').where(df['evasao'] == 1, 'NA')\n",
    "\n",
    "#Exibe os valores unicos da coluna 'categoria_motivo_cancelamento'\n",
    "df['categoria_motivo_cancelamento'].unique()"
   ]
  },
  {
   "cell_type": "markdown",
   "id": "4e6e248f",
   "metadata": {},
   "source": [
    "Exibição dos dados\n"
   ]
  },
  {
   "cell_type": "code",
   "execution_count": null,
   "id": "4848e0ee",
   "metadata": {},
   "outputs": [],
   "source": [
    "#Exibe as informações sobre os dados\n",
    "df.info()\n",
    "#Exibe as estatísticas descritivas\n",
    "df.head()"
   ]
  },
  {
   "cell_type": "markdown",
   "id": "007078f6",
   "metadata": {},
   "source": [
    "# Visualização\n"
   ]
  },
  {
   "cell_type": "markdown",
   "id": "4fe08b08",
   "metadata": {},
   "source": [
    "## Amostra dos dados\n"
   ]
  },
  {
   "cell_type": "code",
   "execution_count": null,
   "id": "09e10f52",
   "metadata": {},
   "outputs": [],
   "source": [
    "df.head()"
   ]
  },
  {
   "cell_type": "markdown",
   "id": "73038260",
   "metadata": {},
   "source": [
    "## Análise descritiva\n"
   ]
  },
  {
   "cell_type": "code",
   "execution_count": null,
   "id": "e430cbd7",
   "metadata": {},
   "outputs": [],
   "source": [
    "#Exibe as informações sobre os dados\n",
    "df.describe()"
   ]
  },
  {
   "cell_type": "code",
   "execution_count": null,
   "id": "87392ea7",
   "metadata": {},
   "outputs": [],
   "source": [
    "#Calcula o total de alunos\n",
    "total_alunos = df['cd_aluno'].unique().shape[0]\n",
    "print(\"Total de alunos: \", total_alunos)\n",
    "\n",
    "#Calcula o numero total de matrículas no primeiro semestre\n",
    "total_matriculas_primeiro_semestre = df['dt_registro'].value_counts()[20231]\n",
    "print(\"Total de matrículas no primeiro semestre: \", total_matriculas_primeiro_semestre)\n",
    "\n",
    "#Calcula o numero total de matrículas no segundo semestre\n",
    "total_matriculas_segundo_semestre = df['dt_registro'].value_counts()[20232]\n",
    "print(\"Total de matrículas no segundo semestre: \", total_matriculas_segundo_semestre)\n",
    "\n",
    "#Calcula o total de matriculas\n",
    "total_matriculas = df.shape[0]\n",
    "print(\"Total de matriculas no ano: \", total_matriculas)\n",
    "\n",
    "#Calcula o numero total de alunos evadidos cuja data de registro é 20231\n",
    "total_alunos_evadidos_primeiro_semestre = df[(df['evasao'] == 1) & (df['dt_registro'] == 20231)]['cd_aluno'].shape[0]\n",
    "print(\"Total de alunos evadidos no primeiro semestre: \", total_alunos_evadidos_primeiro_semestre)\n",
    "\n",
    "#Calcula o numero total de alunos evadidos cuja data de registro é 20232\n",
    "total_alunos_evadidos_segundo_semestre = df[(df['evasao'] == 1) & (df['dt_registro'] == 20232)]['cd_aluno'].shape[0]\n",
    "print(\"Total de alunos evadidos no segundo semestre: \", total_alunos_evadidos_segundo_semestre)\n",
    "\n",
    "#Calcula o total de alunos evadidos\n",
    "total_alunos_evadidos = df[df['evasao'] == 1]['cd_aluno'].shape[0]\n",
    "print(\"Total de alunos evadidos no ano: \", total_alunos_evadidos)\n",
    "\n",
    "#Calcula o percentual de alunos evadidos no primeiro semestre\n",
    "percentual_alunos_evadidos_primeiro_semestre = ((total_alunos_evadidos_primeiro_semestre / total_matriculas_primeiro_semestre) * 100)\n",
    "print(\"Percentual de alunos evadidos no primeiro semestre: \", round(percentual_alunos_evadidos_primeiro_semestre, 2),\"%\")\n",
    "\n",
    "#Calcula o percentual de alunos evadidos no segundo semestre\n",
    "percentual_alunos_evadidos_segundo_semestre = ((total_alunos_evadidos_segundo_semestre / total_matriculas_segundo_semestre) * 100)\n",
    "print(\"Percentual de alunos evadidos no segundo semestre: \", round(percentual_alunos_evadidos_segundo_semestre, 2),\"%\")\n",
    "\n",
    "#Calcula o percentual de alunos evadidos\n",
    "percentual_alunos_evadidos = ((total_alunos_evadidos / total_matriculas) * 100)\n",
    "print(\"Percentual de alunos evadidos no ano: \", round(percentual_alunos_evadidos, 2),\"%\")"
   ]
  },
  {
   "cell_type": "markdown",
   "id": "10a77bb4",
   "metadata": {},
   "source": [
    "## Analise geral\n"
   ]
  },
  {
   "cell_type": "markdown",
   "id": "80bbc21c",
   "metadata": {},
   "source": [
    "### Correlação entre as variáveis"
   ]
  },
  {
   "cell_type": "code",
   "execution_count": null,
   "id": "aff33f45",
   "metadata": {},
   "outputs": [],
   "source": [
    "# Seleciona apenas as colunas numéricas\n",
    "df_numerico = df.select_dtypes(include=[np.number])\n",
    "\n",
    "# Calcula a matriz de correlação\n",
    "correlacao = df_numerico.corr()\n",
    "\n",
    "#Exibe a matriz de correlação\n",
    "correlacao.corr()"
   ]
  },
  {
   "cell_type": "code",
   "execution_count": null,
   "id": "6cc35cd0",
   "metadata": {},
   "outputs": [],
   "source": [
    "# Cria uma figura\n",
    "plt.figure(figsize=(10,10))\n",
    "\n",
    "# Exibe a matriz de correlação como uma imagem colorida\n",
    "plt.matshow(correlacao, fignum=1)\n",
    "\n",
    "# Adiciona um colorbar para a legenda das cores\n",
    "plt.colorbar(label='Correlação')\n",
    "\n",
    "# Adiciona os nomes das colunas\n",
    "plt.xticks(range(len(correlacao.columns)), correlacao.columns, rotation=90)\n",
    "plt.yticks(range(len(correlacao.columns)), correlacao.columns)\n",
    "\n",
    "# Mostra o gráfico\n",
    "plt.title('Tabela de correlações entre as variáveis numéricas')\n",
    "plt.show()"
   ]
  },
  {
   "cell_type": "markdown",
   "id": "99041f26",
   "metadata": {},
   "source": [
    "### Idade dos alunos\n"
   ]
  },
  {
   "cell_type": "code",
   "execution_count": null,
   "id": "150ec5a8",
   "metadata": {},
   "outputs": [],
   "source": [
    "df[df['evasao'] == 0]['idade'].plot.kde(figsize=(10, 6), label='Não evadidos')\n",
    "df[df['evasao'] == 1]['idade'].plot.kde(figsize=(10, 6), label='Evadidos')\n",
    "df['idade'].plot.kde(figsize=(10, 6), label='Todos')\n",
    "\n",
    "plt.title('Distribuição da idade dos alunos em relação a evasão')\n",
    "plt.xlabel('Idade')\n",
    "plt.ylabel('Densidade')\n",
    "\n",
    "plt.legend()"
   ]
  },
  {
   "cell_type": "markdown",
   "id": "d9023497",
   "metadata": {},
   "source": [
    "### Gênero dos alunos\n"
   ]
  },
  {
   "cell_type": "code",
   "execution_count": null,
   "id": "d0d72358",
   "metadata": {},
   "outputs": [],
   "source": [
    "# Criar uma tabela de contingência com os dados necessários\n",
    "contingency_table = pd.crosstab(df['genero'], df['evasao'])\n",
    "\n",
    "#Altera o texto da coluna genero para Feminino, quando for F, Masculino, quando for M e Não Informado, quando for NF\n",
    "contingency_table.index = contingency_table.index.map({'F': 'Feminino', 'M': 'Masculino', 'NF': 'Não Informado'})\n",
    "\n",
    "#Altera a legenda da evasão de 0 para não evadido e 1 para evadido\n",
    "contingency_table.rename(columns={0: 'Não evadidos', 1: 'Evadidos'}, inplace=True)\n",
    "\n",
    "#Remove o nome da coluna evasão\n",
    "contingency_table.columns.name = None\n",
    "\n",
    "# Plotar o gráfico de barras agrupadas\n",
    "contingency_table.plot(kind='bar', stacked=False, figsize=(10, 6))\n",
    "plt.title('Distribuição do gênero dos alunos conforme a evasão')\n",
    "plt.xlabel('Gênero')\n",
    "plt.ylabel('Alunos')\n",
    "plt.xticks(rotation=0)\n",
    "plt.show()"
   ]
  },
  {
   "cell_type": "markdown",
   "id": "f4943ae5",
   "metadata": {},
   "source": [
    "### Ensino médio"
   ]
  },
  {
   "cell_type": "code",
   "execution_count": null,
   "id": "5b1761bb",
   "metadata": {},
   "outputs": [],
   "source": [
    "# Criar uma tabela de contingência com os dados necessários\n",
    "contingency_table = pd.crosstab(df['ds_ensino_medio'], df['evasao'])\n",
    "\n",
    "#Altera a legenda da evasão de 0 para não evadido e 1 para evadido\n",
    "contingency_table.rename(columns={0: 'Não evadidos', 1: 'Evadidos'}, inplace=True)\n",
    "\n",
    "#Remove o nome da coluna evasão\n",
    "contingency_table.columns.name = None\n",
    "\n",
    "# Plotar o gráfico de barras agrupadas\n",
    "contingency_table.plot(kind='bar', stacked=False, figsize=(10, 6))\n",
    "plt.title('Distribuição do tipo de IE conforme a evasão')\n",
    "plt.xlabel('Tipo da Instituição do Ensino Médio')\n",
    "plt.ylabel('Alunos')\n",
    "plt.xticks(rotation=0)\n",
    "plt.show()"
   ]
  },
  {
   "cell_type": "markdown",
   "id": "5de009e8",
   "metadata": {},
   "source": [
    "### Forma de Ingresso"
   ]
  },
  {
   "cell_type": "code",
   "execution_count": null,
   "id": "f44a3cda",
   "metadata": {},
   "outputs": [],
   "source": [
    "# Criar uma tabela de contingência com os dados necessários\n",
    "contingency_table = pd.crosstab(df['ds_ingresso'], df['evasao'])\n",
    "\n",
    "#Altera a legenda da evasão de 0 para não evadido e 1 para evadido\n",
    "contingency_table.rename(columns={0: 'Não evadidos', 1: 'Evadidos'}, inplace=True)\n",
    "\n",
    "#Remove o nome da coluna evasão\n",
    "contingency_table.columns.name = None\n",
    "\n",
    "# Plotar o gráfico de barras agrupadas\n",
    "contingency_table.plot(kind='bar', stacked=False, figsize=(10, 6))\n",
    "plt.title('Distribuição da forma de ingresso conforme a evasão')\n",
    "plt.xlabel('Forma de ingresso')\n",
    "plt.ylabel('Alunos')\n",
    "plt.xticks(rotation=0)\n",
    "plt.show()"
   ]
  },
  {
   "cell_type": "markdown",
   "id": "f26bcd4c",
   "metadata": {},
   "source": [
    "### Curso"
   ]
  },
  {
   "cell_type": "code",
   "execution_count": null,
   "id": "5c1dbd0e",
   "metadata": {},
   "outputs": [],
   "source": [
    "# Criar uma tabela de contingência com os dados necessários\n",
    "contingency_table = pd.crosstab(df['curso'], df['evasao'])\n",
    "\n",
    "#Altera a legenda da evasão de 0 para não evadido e 1 para evadido\n",
    "contingency_table.rename(columns={0: 'Não evadidos', 1: 'Evadidos'}, inplace=True)\n",
    "\n",
    "#Remove o nome da coluna evasão\n",
    "contingency_table.columns.name = None\n",
    "\n",
    "# Plotar o gráfico de barras agrupadas\n",
    "contingency_table.plot(kind='bar', stacked=True, figsize=(20, 6))\n",
    "plt.title('Distribuição dos cursos conforme a evasão')\n",
    "plt.xlabel('Curso')\n",
    "plt.ylabel('Alunos')\n",
    "plt.show()"
   ]
  },
  {
   "cell_type": "markdown",
   "id": "251b78e8",
   "metadata": {},
   "source": [
    "### Titulação"
   ]
  },
  {
   "cell_type": "code",
   "execution_count": null,
   "id": "bf0106c8",
   "metadata": {},
   "outputs": [],
   "source": [
    "# Criar uma tabela de contingência com os dados necessários\n",
    "contingency_table = pd.crosstab(df['titulacao'], df['evasao'])\n",
    "\n",
    "#Altera a legenda da evasão de 0 para não evadido e 1 para evadido\n",
    "contingency_table.rename(columns={0: 'Não evadidos', 1: 'Evadidos'}, inplace=True)\n",
    "\n",
    "#Remove o nome da coluna evasão\n",
    "contingency_table.columns.name = None\n",
    "\n",
    "# Plotar o gráfico de barras agrupadas\n",
    "contingency_table.plot(kind='bar', stacked=False, figsize=(10, 6))\n",
    "plt.title('Distribuição da titulação conforme a evasão')\n",
    "plt.xlabel('Titulação')\n",
    "plt.ylabel('Alunos')\n",
    "plt.xticks(rotation=0)\n",
    "plt.show()"
   ]
  },
  {
   "cell_type": "markdown",
   "id": "3ae206c3",
   "metadata": {},
   "source": [
    "### Mensalidade"
   ]
  },
  {
   "cell_type": "code",
   "execution_count": null,
   "id": "69ba8c62",
   "metadata": {},
   "outputs": [],
   "source": [
    "# Calcula Q1, Q2 e IQR\n",
    "Q1 = df['valor_mensalidade_liquido'].quantile(0.25)\n",
    "Q3 = df['valor_mensalidade_liquido'].quantile(0.75)\n",
    "IQR = Q3 - Q1\n",
    "\n",
    "# Define os limites para os outliers\n",
    "lower_bound = Q1 - 1.5 * IQR\n",
    "upper_bound = Q3 + 1.5 * IQR\n",
    "\n",
    "# Remove os outliers\n",
    "df_filtered = df[(df['valor_mensalidade_liquido'] >= lower_bound) & (df['valor_mensalidade_liquido'] <= upper_bound)]\n",
    "\n",
    "df_filtered[df_filtered['evasao'] == 0]['valor_mensalidade_liquido'].plot.kde(figsize=(10, 6), label='Não evadidos')\n",
    "df_filtered[df_filtered['evasao'] == 1]['valor_mensalidade_liquido'].plot.kde(figsize=(10, 6), label='Evadidos')\n",
    "\n",
    "plt.title('Distribuição do valor da mensalidade em relação a evasão')\n",
    "plt.xlabel('Valor da mensalidade')\n",
    "plt.ylabel('Densidade')\n",
    "\n",
    "plt.legend()\n",
    "plt.show()\n"
   ]
  },
  {
   "cell_type": "markdown",
   "id": "33d937ae",
   "metadata": {},
   "source": [
    "### Pagamentos em atraso"
   ]
  },
  {
   "cell_type": "code",
   "execution_count": null,
   "id": "88308235",
   "metadata": {},
   "outputs": [],
   "source": [
    "# Calcula Q1, Q2 e IQR\n",
    "Q1 = df['qtd_mensalidade_paga_atraso'].quantile(0.25)\n",
    "Q3 = df['qtd_mensalidade_paga_atraso'].quantile(0.75)\n",
    "IQR = Q3 - Q1\n",
    "\n",
    "# Define os limites para os outliers\n",
    "lower_bound = Q1 - 1.5 * IQR\n",
    "upper_bound = Q3 + 1.5 * IQR\n",
    "\n",
    "# Remove os outliers\n",
    "df_filtered = df[(df['qtd_mensalidade_paga_atraso'] >= lower_bound) & (df['qtd_mensalidade_paga_atraso'] <= upper_bound)]\n",
    "\n",
    "df_filtered[df_filtered['evasao'] == 0]['qtd_mensalidade_paga_atraso'].plot.kde(figsize=(10,6), label='Não evadidos')\n",
    "df_filtered[df_filtered['evasao'] == 1]['qtd_mensalidade_paga_atraso'].plot.kde(figsize=(10,6), label='Evadidos')\n",
    "\n",
    "plt.title('Distribuição do mensalidades atrasadas em relação a evasão')\n",
    "plt.xlabel('Mensalidades pagas com atraso')\n",
    "plt.ylabel('Densidade')\n",
    "\n",
    "plt.legend()\n",
    "plt.grid(False)\n",
    "plt.show()\n"
   ]
  },
  {
   "cell_type": "markdown",
   "id": "6c1d8ed7",
   "metadata": {},
   "source": [
    "### Duração do curso"
   ]
  },
  {
   "cell_type": "code",
   "execution_count": null,
   "id": "2277cd92",
   "metadata": {},
   "outputs": [],
   "source": [
    "df[df['evasao'] == 0]['qtd_semestres_curso'].plot.kde( figsize=(10, 6), label='Não evadidos')\n",
    "df[df['evasao'] == 1]['qtd_semestres_curso'].plot.kde( figsize=(10, 6), label='Evadidos')\n",
    "\n",
    "plt.title('Distribuição da evasão por duração do curso')\n",
    "plt.xlabel('Duração em semestres')\n",
    "plt.ylabel('Densidade')\n",
    "\n",
    "plt.grid(False)\n",
    "plt.legend()\n",
    "plt.show()\n"
   ]
  },
  {
   "cell_type": "markdown",
   "id": "d4252d9d",
   "metadata": {},
   "source": [
    "### Semestre atual"
   ]
  },
  {
   "cell_type": "code",
   "execution_count": null,
   "id": "7b3d48a6",
   "metadata": {},
   "outputs": [],
   "source": [
    "df[df['evasao'] == 0]['semestre_atual'].plot.kde(figsize=(10,6), label='Não evadidos')\n",
    "df[df['evasao'] == 1]['semestre_atual'].plot.kde(figsize=(10,6), label='Evadidos')\n",
    "\n",
    "plt.title('Distribuição do semestre atual do aluno em relação a evasão')\n",
    "plt.xlabel('Semestre atual')\n",
    "plt.ylabel('Densidade')\n",
    "\n",
    "plt.grid(False)\n",
    "plt.legend()\n",
    "plt.show()"
   ]
  },
  {
   "cell_type": "markdown",
   "id": "7f76d31c",
   "metadata": {},
   "source": [
    "### Datas de Matricula e Cancelamento X Status da evasão"
   ]
  },
  {
   "cell_type": "code",
   "execution_count": null,
   "id": "a66c458a",
   "metadata": {},
   "outputs": [],
   "source": [
    "# Cria uma cópia do DataFrame original\n",
    "df_aux = df.copy()\n",
    "\n",
    "# Converte as datas para o formato correto\n",
    "df_aux['dt_matricula'] = pd.to_datetime(df_aux['dt_matricula'])\n",
    "df_aux['dt_saida'] = pd.to_datetime(df_aux['dt_saida'])\n",
    "\n",
    "# Cria uma nova coluna para o mês da matrícula e da saída\n",
    "df_aux['mes_matricula'] = df_aux['dt_matricula'].dt.month\n",
    "df_aux['mes_saida'] = df_aux['dt_saida'].dt.month\n",
    "\n",
    "# Desconsidera os alunos não evadidos com saída em 2023-12-31\n",
    "df_aux = df_aux[~((df_aux['evasao'] == 0) & (df_aux['dt_saida'] == '2023-12-31'))]\n",
    "\n",
    "# Agrupa os dados por mês\n",
    "grouped_matricula = df_aux.groupby('mes_matricula').size()\n",
    "grouped_saida = df_aux.groupby('mes_saida').size()\n",
    "grouped_evadidos = (df_aux[df_aux['evasao'] == 1].groupby('mes_matricula').size()).reindex(np.arange(1, 13), fill_value=0)\n",
    "\n",
    "# Cria uma figura e um conjunto de subtramas\n",
    "fig, ax = plt.subplots(figsize=(10, 6))\n",
    "\n",
    "# Plota as barras para matrículas e saídas\n",
    "bar_width = 0.25\n",
    "index = np.arange(1, 13)  # Meses do ano\n",
    "\n",
    "rects1 = ax.bar(index - bar_width, grouped_matricula, bar_width, label='Matrículas')\n",
    "rects2 = ax.bar(index, grouped_saida, bar_width, label='Cancelamentos')\n",
    "rects3 = ax.bar(index + bar_width, grouped_evadidos, bar_width, label='Evasão')\n",
    "\n",
    "# Adiciona títulos e rótulos\n",
    "ax.set_xlabel('Mês')\n",
    "ax.set_ylabel('Quantidade de Alunos')\n",
    "ax.set_title('Distribuição de matrículas, cancelamentos e evasão ao longo do ano')\n",
    "ax.set_xticks(index)\n",
    "ax.set_xticklabels(index)\n",
    "\n",
    "# Adiciona uma legenda\n",
    "ax.legend()\n",
    "\n",
    "plt.show()"
   ]
  },
  {
   "cell_type": "markdown",
   "id": "618cda2d",
   "metadata": {},
   "source": [
    "### Dias matrículados"
   ]
  },
  {
   "cell_type": "code",
   "execution_count": null,
   "id": "b23857b6",
   "metadata": {},
   "outputs": [],
   "source": [
    "# Calcula Q1, Q2 e IQR\n",
    "Q1 = df['dias_matriculado_semestre'].quantile(0.25)\n",
    "Q3 = df['dias_matriculado_semestre'].quantile(0.75)\n",
    "IQR = Q3 - Q1\n",
    "\n",
    "# Define os limites para os outliers\n",
    "lower_bound = Q1 - 1.5 * IQR\n",
    "upper_bound = Q3 + 1.5 * IQR\n",
    "\n",
    "# Remove os outliers\n",
    "df_filtered = df[(df['dias_matriculado_semestre'] >= lower_bound) & (df['dias_matriculado_semestre'] <= upper_bound)]\n",
    "\n",
    "df_filtered[df_filtered['evasao'] == 0]['dias_matriculado_semestre'].plot.kde(figsize=(10,6), label='Não evadidos')\n",
    "df_filtered[df_filtered['evasao'] == 1]['dias_matriculado_semestre'].plot.kde(figsize=(10,6), label='Evadidos')\n",
    "\n",
    "plt.title('Distribuição dos dias matriculados no semestre relação a evasão')\n",
    "plt.xlabel('Dias matriculados')\n",
    "plt.ylabel('Densidade')\n",
    "\n",
    "plt.grid(False)\n",
    "plt.legend()\n",
    "plt.show()"
   ]
  },
  {
   "cell_type": "markdown",
   "id": "106a662c",
   "metadata": {},
   "source": [
    "### Aprovações"
   ]
  },
  {
   "cell_type": "code",
   "execution_count": null,
   "id": "43464b78",
   "metadata": {},
   "outputs": [],
   "source": [
    "df[df['evasao'] == 0]['qtd_aprovacoes'].plot.kde( figsize=(10, 6), label='Não evadidos')\n",
    "df[df['evasao'] == 1]['qtd_aprovacoes'].plot.kde( figsize=(10, 6), label='Evadidos')\n",
    "\n",
    "plt.title('Distribuição das aprovações em relação a evasão')\n",
    "plt.xlabel('Quantidade de disciplinas')\n",
    "plt.ylabel('Densidade')\n",
    "\n",
    "plt.grid(False)\n",
    "plt.legend()\n",
    "plt.show()"
   ]
  },
  {
   "cell_type": "markdown",
   "id": "2549ca9e",
   "metadata": {},
   "source": [
    "### Reprovações"
   ]
  },
  {
   "cell_type": "code",
   "execution_count": null,
   "id": "4e572705",
   "metadata": {},
   "outputs": [],
   "source": [
    "df[df['evasao'] == 0]['qtd_reprovacoes'].plot.kde( figsize=(10, 6), label='Não evadidos')\n",
    "df[df['evasao'] == 1]['qtd_reprovacoes'].plot.kde( figsize=(10, 6), label='Evadidos')\n",
    "\n",
    "plt.title('Distribuição das reprovações em relação a evasão')\n",
    "plt.xlabel('Quantidade de disciplinas')\n",
    "plt.ylabel('Densidade')\n",
    "\n",
    "plt.grid(False)\n",
    "plt.legend()\n",
    "plt.show()"
   ]
  },
  {
   "cell_type": "markdown",
   "id": "5c9e3a14",
   "metadata": {},
   "source": [
    "### Acesso a plataforma de ensino"
   ]
  },
  {
   "cell_type": "code",
   "execution_count": null,
   "id": "91624967",
   "metadata": {},
   "outputs": [],
   "source": [
    "# Calcula Q1, Q2 e IQR\n",
    "Q1 = df['total_logins'].quantile(0.25)\n",
    "Q3 = df['total_logins'].quantile(0.75)\n",
    "IQR = Q3 - Q1\n",
    "\n",
    "# Define os limites para os outliers\n",
    "lower_bound = Q1 - 1.5 * IQR\n",
    "upper_bound = Q3 + 1.5 * IQR\n",
    "\n",
    "# Remove os outliers\n",
    "df_filtered = df[(df['total_logins'] >= lower_bound) & (df['total_logins'] <= upper_bound)]\n",
    "\n",
    "df_filtered[df_filtered['evasao'] == 0]['total_logins'].plot.kde(figsize=(10,6), label='Não evadidos')\n",
    "df_filtered[df_filtered['evasao'] == 1]['total_logins'].plot.kde(figsize=(10,6), label='Evadidos')\n",
    "\n",
    "plt.title('Distribuição do total de logins em relação a evasão')\n",
    "plt.xlabel('Quantidade de logins')\n",
    "plt.ylabel('Densidade')\n",
    "\n",
    "plt.grid(False)\n",
    "plt.legend()\n",
    "plt.show()"
   ]
  },
  {
   "cell_type": "markdown",
   "id": "960dfe7e",
   "metadata": {},
   "source": [
    "### Maturidade do curso"
   ]
  },
  {
   "cell_type": "code",
   "execution_count": null,
   "id": "df0fee9a",
   "metadata": {},
   "outputs": [],
   "source": [
    "# Calcula Q1, Q2 e IQR\n",
    "Q1 = df['semestres_existencia_curso'].quantile(0.25)\n",
    "Q3 = df['semestres_existencia_curso'].quantile(0.75)\n",
    "IQR = Q3 - Q1\n",
    "\n",
    "# Define os limites para os outliers\n",
    "lower_bound = Q1 - 1.5 * IQR\n",
    "upper_bound = Q3 + 1.5 * IQR\n",
    "\n",
    "# Remove os outliers\n",
    "df_filtered = df[(df['semestres_existencia_curso'] >= lower_bound) & (df['semestres_existencia_curso'] <= upper_bound)]\n",
    "\n",
    "df_filtered[df_filtered['evasao'] == 0]['semestres_existencia_curso'].plot.kde(figsize=(10,6), label='Não evadidos')\n",
    "df_filtered[df_filtered['evasao'] == 1]['semestres_existencia_curso'].plot.kde(figsize=(10,6), label='Evadidos')\n",
    "\n",
    "plt.title('Distribuição da maturidade do curso em relação a evasão')\n",
    "plt.xlabel('Quantidade de semestres existentes')\n",
    "plt.ylabel('Densidade')\n",
    "\n",
    "plt.grid(False)\n",
    "plt.legend()\n",
    "plt.show()"
   ]
  },
  {
   "cell_type": "markdown",
   "id": "14f0f185",
   "metadata": {},
   "source": [
    "### Motivos"
   ]
  },
  {
   "cell_type": "code",
   "execution_count": null,
   "id": "ac860b43",
   "metadata": {},
   "outputs": [],
   "source": [
    "# Apenas alunos evadidos tem motivos indicados, por isso estamos filtrando apenas estes casos\n",
    "df_motivos = df[(df['evasao'] == 1)]\n",
    "\n",
    "# Contar as ocorrências de cada motivo\n",
    "contagem_motivos = df_motivos['categoria_motivo_cancelamento'].value_counts()\n",
    "\n",
    "# Plotar o gráfico de barras horizontais\n",
    "ax = contagem_motivos.plot.barh()\n",
    "\n",
    "# Definir as propriedades\n",
    "ax.set_title('Distribuição de Evasões por Motivos')\n",
    "ax.set_ylabel('Motivos')\n",
    "ax.set_xlabel('Quantidade de Evasões')\n",
    "\n",
    "# Mostrar o gráfico\n",
    "plt.show()"
   ]
  },
  {
   "cell_type": "markdown",
   "id": "d35f9e4c",
   "metadata": {},
   "source": [
    "### Média de Idade (Professores)"
   ]
  },
  {
   "cell_type": "code",
   "execution_count": null,
   "id": "f81ab464",
   "metadata": {},
   "outputs": [],
   "source": [
    "# Calcula Q1, Q3 e IQR para a média de idade dos professores\n",
    "Q1_media = df['idade_media_professores'].quantile(0.25)\n",
    "Q3_media = df['idade_media_professores'].quantile(0.75)\n",
    "IQR_media = Q3_media - Q1_media\n",
    "\n",
    "# Define os limites para os outliers\n",
    "lower_bound_media = Q1_media - 1.5 * IQR_media\n",
    "upper_bound_media = Q3_media + 1.5 * IQR_media\n",
    "\n",
    "# Remove os outliers\n",
    "idade_media_prof_evadidos = df[df['evasao'] == 1]['idade_media_professores']\n",
    "idade_media_prof_nao_evadidos = df[df['evasao'] == 0]['idade_media_professores']\n",
    "idade_media_prof_todos = df['idade_media_professores']\n",
    "\n",
    "idade_media_prof_evadidos_clean = idade_media_prof_evadidos[(idade_media_prof_evadidos >= lower_bound_media) & (idade_media_prof_evadidos <= upper_bound_media)]\n",
    "idade_media_prof_nao_evadidos_clean = idade_media_prof_nao_evadidos[(idade_media_prof_nao_evadidos >= lower_bound_media) & (idade_media_prof_nao_evadidos <= upper_bound_media)]\n",
    "idade_media_prof_todos_clean = idade_media_prof_todos[(idade_media_prof_todos >= lower_bound_media) & (idade_media_prof_todos <= upper_bound_media)]\n",
    "\n",
    "# Plotando o KDE\n",
    "idade_media_prof_nao_evadidos_clean.plot.kde(figsize=(10, 6), label='Não Evadidos')\n",
    "idade_media_prof_evadidos_clean.plot.kde(figsize=(10, 6),label='Evadidos')\n",
    "idade_media_prof_todos_clean.plot.kde(figsize=(10, 6),label='Todos')\n",
    "\n",
    "# Configurações do gráfico\n",
    "plt.title('Distribuição da Média de Idade dos Professores em Relação à Evasão')\n",
    "plt.xlabel('Média de Idade')\n",
    "plt.ylabel('Densidade')\n",
    "plt.legend()\n",
    "\n",
    "# Exibindo o gráfico\n",
    "plt.show()"
   ]
  },
  {
   "cell_type": "markdown",
   "id": "ad22c756",
   "metadata": {},
   "source": [
    "### Idade Máxima (Professores)"
   ]
  },
  {
   "cell_type": "code",
   "execution_count": null,
   "id": "b73f46cb",
   "metadata": {},
   "outputs": [],
   "source": [
    "# Calcula Q1, Q3 e IQR\n",
    "Q1 = df['idade_max_professores'].quantile(0.25)\n",
    "Q3 = df['idade_max_professores'].quantile(0.75)\n",
    "IQR = Q3 - Q1\n",
    "\n",
    "# Define os limites para os outliers\n",
    "lower_bound = Q1 - 1.5 * IQR\n",
    "upper_bound = Q3 + 1.5 * IQR\n",
    "\n",
    "# Remove os outliers\n",
    "idade_max_prof_evadidos = df[df['evasao'] == 1]['idade_max_professores']\n",
    "idade_max_prof_nao_evadidos = df[df['evasao'] == 0]['idade_max_professores']\n",
    "idade_max_prof_todos = df['idade_max_professores']\n",
    "\n",
    "# monta novos DataFrames após a limpeza, usando limites calculados\n",
    "idade_max_prof_evadidos_clean = idade_max_prof_evadidos[(idade_max_prof_evadidos >= lower_bound) & (idade_max_prof_evadidos <= upper_bound)]\n",
    "idade_max_prof_nao_evadidos_clean = idade_max_prof_nao_evadidos[(idade_max_prof_nao_evadidos >= lower_bound) & (idade_max_prof_nao_evadidos <= upper_bound)]\n",
    "idade_max_prof_todos_clean = idade_max_prof_todos[(idade_max_prof_todos >= lower_bound) & (idade_max_prof_todos <= upper_bound)]\n",
    "\n",
    "# Plotando o KDE\n",
    "idade_max_prof_nao_evadidos_clean.plot.kde(figsize=(10, 6),label='Não evadidos')\n",
    "idade_max_prof_evadidos_clean.plot.kde(figsize=(10, 6), label='Evadidos')\n",
    "idade_max_prof_todos_clean.plot.kde(figsize=(10, 6),label='Todos')\n",
    "\n",
    "\n",
    "# Configurações do gráfico\n",
    "plt.title('Distribuição da Idade Máxima dos Professores em Relação à Evasão')\n",
    "plt.xlabel('Idade Máxima')\n",
    "plt.ylabel('Densidade')\n",
    "plt.legend()\n",
    "\n",
    "# Exibindo o gráfico\n",
    "plt.show()"
   ]
  },
  {
   "cell_type": "markdown",
   "id": "40054418",
   "metadata": {},
   "source": [
    "### Idade Mínima (Professores)"
   ]
  },
  {
   "cell_type": "code",
   "execution_count": null,
   "id": "79e0d7fc",
   "metadata": {},
   "outputs": [],
   "source": [
    "# Calcula Q1, Q3 e IQR para a idade mínima dos professores\n",
    "Q1_min = df['idade_min_professores'].quantile(0.25)\n",
    "Q3_min = df['idade_min_professores'].quantile(0.75)\n",
    "IQR_min = Q3_min - Q1_min\n",
    "\n",
    "# Define os limites para os outliers\n",
    "lower_bound_min = Q1_min - 1.5 * IQR_min\n",
    "upper_bound_min = Q3_min + 1.5 * IQR_min\n",
    "\n",
    "# Remove os outliers\n",
    "idade_min_prof_evadidos = df[df['evasao'] == 1]['idade_min_professores']\n",
    "idade_min_prof_nao_evadidos = df[df['evasao'] == 0]['idade_min_professores']\n",
    "idade_min_prof_todos = df['idade_min_professores']\n",
    "\n",
    "# monta novos DataFrames após a limpeza, usando limites calculados\n",
    "idade_min_prof_evadidos_clean = idade_min_prof_evadidos[(idade_min_prof_evadidos >= lower_bound_min) & (idade_min_prof_evadidos <= upper_bound_min)]\n",
    "idade_min_prof_nao_evadidos_clean = idade_min_prof_nao_evadidos[(idade_min_prof_nao_evadidos >= lower_bound_min) & (idade_min_prof_nao_evadidos <= upper_bound_min)]\n",
    "idade_min_prof_todos_clean = idade_min_prof_todos[(idade_min_prof_todos >= lower_bound_min) & (idade_min_prof_todos <= upper_bound_min)]\n",
    "\n",
    "# Plotando o KDE\n",
    "plt.figure(figsize=(10, 6))\n",
    "idade_min_prof_nao_evadidos_clean.plot.kde(figsize=(10, 6), label='Não evadidos')\n",
    "idade_min_prof_evadidos_clean.plot.kde(figsize=(10, 6), label='Evadidos')\n",
    "idade_min_prof_todos_clean.plot.kde(figsize=(10, 6), label='Todos')\n",
    "\n",
    "# Configurações do gráfico\n",
    "plt.title('Distribuição da Idade Mínima dos Professores em Relação à Evasão')\n",
    "plt.xlabel('Idade Mínima')\n",
    "plt.ylabel('Densidade')\n",
    "plt.legend()\n",
    "\n",
    "# Exibindo o gráfico\n",
    "plt.show()"
   ]
  },
  {
   "cell_type": "markdown",
   "id": "2f3393a1",
   "metadata": {},
   "source": [
    "### Titulação (Professores)"
   ]
  },
  {
   "cell_type": "code",
   "execution_count": null,
   "id": "b2ca19ad",
   "metadata": {},
   "outputs": [],
   "source": [
    "# Variáveis\n",
    "categories = ['Doutorado', 'Mestrado',  'Especialista', 'Graduado']\n",
    "\n",
    "# Calculando a média de todas as observações\n",
    "values_todos = df.loc[df['evasao'] >= 0, ['qtd_professores_doutorado', 'qtd_professores_mestrado',  \n",
    "                                           'qtd_professores_especialista', 'qtd_professores_graduado']].sum().values\n",
    "\n",
    "# Calculando a média para 'evasao = 0'\n",
    "values_evasao_0 = df.loc[df['evasao'] == 0, ['qtd_professores_doutorado', 'qtd_professores_mestrado',  \n",
    "                                               'qtd_professores_especialista', 'qtd_professores_graduado']].sum().values\n",
    "\n",
    "# Calculando a média para 'evasao = 1'\n",
    "values_evasao_1 = df.loc[df['evasao'] == 1, ['qtd_professores_doutorado', 'qtd_professores_mestrado',  \n",
    "                                               'qtd_professores_especialista', 'qtd_professores_graduado']].sum().values\n",
    "\n",
    "# Número de variáveis\n",
    "num_vars = len(categories)\n",
    "\n",
    "# Ângulo do eixo x\n",
    "angles = np.linspace(0, 2 * np.pi, num_vars, endpoint=False).tolist()\n",
    "\n",
    "# Fechar o gráfico\n",
    "values_todos = np.concatenate((values_todos,[values_todos[0]]))\n",
    "values_evasao_0 = np.concatenate((values_evasao_0,[values_evasao_0[0]]))\n",
    "values_evasao_1 = np.concatenate((values_evasao_1,[values_evasao_1[0]]))\n",
    "angles += angles[:1]\n",
    "\n",
    "# Plotar\n",
    "fig, ax = plt.subplots(figsize=(8, 8), subplot_kw=dict(polar=True))\n",
    "\n",
    "# Plotar a média de todas as observações primeiro\n",
    "ax.fill(angles, values_todos, color='blue', alpha=0.5, label='Todos')\n",
    "\n",
    "# Plotar a média para 'evasao = 0' em seguida\n",
    "ax.fill(angles, values_evasao_0, color='green', alpha=0.5, label='Evasão = 0')\n",
    "\n",
    "# Plotar a média para 'evasao = 1' por último\n",
    "ax.fill(angles, values_evasao_1, color='red', alpha=0.5, label='Evasão = 1')\n",
    "\n",
    "# Definir o ângulo de deslocamento para as etiquetas das categorias\n",
    "ax.set_theta_offset(np.pi / 4)\n",
    "\n",
    "# Adicionar linhas radiais para indicar a quantidade e as representações numéricas\n",
    "for value in np.linspace(0, max(values_todos), 5):\n",
    "    ax.text(np.pi / 4, value, str(round(value, 2)), color='gray', ha='center', va='center')\n",
    "\n",
    "ax.set_yticklabels([])\n",
    "plt.xticks(angles[:-1], categories, color='black', size=10)\n",
    "plt.title('Distribuição da Influência da Titulação dos Professores na Evasão', size=20, color='black', y=1.1)\n",
    "ax.legend(loc='upper right', bbox_to_anchor=(1.2, 1.1))\n",
    "plt.show()"
   ]
  },
  {
   "cell_type": "markdown",
   "id": "5e77b617",
   "metadata": {},
   "source": [
    "### Gênero (Professores)"
   ]
  },
  {
   "cell_type": "code",
   "execution_count": null,
   "id": "c4ec2e3b",
   "metadata": {},
   "outputs": [],
   "source": [
    "# Calculando a soma das colunas qtd_professores_M e qtd_professores_F para evadidos e não evadidos\n",
    "evadidos_M = df[df['evasao'] == 1]['qtd_professores_M'].sum()\n",
    "evadidos_F = df[df['evasao'] == 1]['qtd_professores_F'].sum()\n",
    "nao_evadidos_M = df[df['evasao'] == 0]['qtd_professores_M'].sum()\n",
    "nao_evadidos_F = df[df['evasao'] == 0]['qtd_professores_F'].sum()\n",
    "todos_M = df['qtd_professores_M'].sum()\n",
    "todos_F = df['qtd_professores_F'].sum()\n",
    "\n",
    "# Definindo as categorias e valores para o gráfico de barras\n",
    "categorias = ['Evadidos (Masculino)', 'Evadidos (Femininos)', 'Não Evadidos (Masculinos)', 'Não Evadidos (Femininos)', 'Todos (Masculinos)', 'Todos (Femininos)']\n",
    "valores = [evadidos_M, evadidos_F, nao_evadidos_M, nao_evadidos_F, todos_M, todos_F]\n",
    "\n",
    "# Definindo as cores das barras\n",
    "cores = ['orange', 'blue', 'orange', 'blue', 'orange', 'blue']\n",
    "\n",
    "# Plotando o gráfico de barras\n",
    "plt.figure(figsize=(10, 6))\n",
    "plt.bar(categorias, valores, color=cores)\n",
    "plt.title('Distribuição da Influência do Gênero na Evasão')\n",
    "plt.xlabel('')\n",
    "plt.ylabel('Influência de Gênero')\n",
    "plt.xticks(rotation=45, ha='right')\n",
    "\n",
    "# Exibindo o gráfico\n",
    "plt.tight_layout()\n",
    "plt.show()"
   ]
  }
 ],
 "metadata": {
  "kernelspec": {
   "display_name": "Python 3 (ipykernel)",
   "language": "python",
   "name": "python3"
  },
  "language_info": {
   "codemirror_mode": {
    "name": "ipython",
    "version": 3
   },
   "file_extension": ".py",
   "mimetype": "text/x-python",
   "name": "python",
   "nbconvert_exporter": "python",
   "pygments_lexer": "ipython3",
   "version": "3.11.7"
  }
 },
 "nbformat": 4,
 "nbformat_minor": 5
}
