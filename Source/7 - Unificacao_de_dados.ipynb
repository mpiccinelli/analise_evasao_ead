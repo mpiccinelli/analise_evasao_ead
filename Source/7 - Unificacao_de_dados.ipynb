{
 "cells": [
  {
   "cell_type": "markdown",
   "id": "d22481da-44c2-4e51-a32f-a0c2d711c053",
   "metadata": {},
   "source": [
    "# Unificação dos dados"
   ]
  },
  {
   "cell_type": "markdown",
   "id": "370ec855-083f-4859-bf92-513517deb207",
   "metadata": {
    "jp-MarkdownHeadingCollapsed": true
   },
   "source": [
    "## Obtenção e carregamento de dados  "
   ]
  },
  {
   "cell_type": "code",
   "execution_count": null,
   "id": "fe43db2f-1929-4b0b-8a5c-23317b96f039",
   "metadata": {},
   "outputs": [],
   "source": [
    "#importação de bibliotecas\n",
    "import pandas as pd"
   ]
  },
  {
   "cell_type": "code",
   "execution_count": null,
   "id": "346d7e4c-618a-4b2e-80cb-3c007ebbc59e",
   "metadata": {},
   "outputs": [],
   "source": [
    "#Carregamento de dados limpos da pasta ../data/\n",
    "df_alunos = pd.read_csv('../Data/tab_Alunos.csv')\n",
    "df_acessos = pd.read_csv('../Data/tab_Acessos.csv')\n",
    "df_cursos = pd.read_csv('../Data/tab_Cursos_Oferta.csv')\n",
    "df_Motivo = pd.read_csv('../Data/tab_Motivo.csv')\n",
    "df_Motivo_Classificacao = pd.read_csv('../Data/tab_Motivo_Classificacao.csv')\n",
    "df_Professores = pd.read_csv('../Data/tab_Professores.csv')"
   ]
  },
  {
   "cell_type": "markdown",
   "id": "b0c737f6",
   "metadata": {},
   "source": [
    "### Alunos"
   ]
  },
  {
   "cell_type": "code",
   "execution_count": null,
   "id": "239aa350-f99e-4d67-8a1e-e7ca5edc018e",
   "metadata": {},
   "outputs": [],
   "source": [
    "df_alunos.head()"
   ]
  },
  {
   "cell_type": "markdown",
   "id": "bcf7edf2",
   "metadata": {},
   "source": [
    "### Acessos"
   ]
  },
  {
   "cell_type": "code",
   "execution_count": null,
   "id": "1fe21df0",
   "metadata": {},
   "outputs": [],
   "source": [
    "df_acessos.head()"
   ]
  },
  {
   "cell_type": "markdown",
   "id": "f9ad4a68",
   "metadata": {},
   "source": [
    "### Cursos"
   ]
  },
  {
   "cell_type": "code",
   "execution_count": null,
   "id": "a6f6dcab",
   "metadata": {},
   "outputs": [],
   "source": [
    "df_cursos.head()"
   ]
  },
  {
   "cell_type": "markdown",
   "id": "ac1cdae3",
   "metadata": {},
   "source": [
    "### Motivo"
   ]
  },
  {
   "cell_type": "code",
   "execution_count": null,
   "id": "de9fe86f",
   "metadata": {},
   "outputs": [],
   "source": [
    "df_Motivo.head()"
   ]
  },
  {
   "cell_type": "markdown",
   "id": "79fc35df",
   "metadata": {},
   "source": [
    "### Motivo Classificação"
   ]
  },
  {
   "cell_type": "code",
   "execution_count": null,
   "id": "12c23d8c",
   "metadata": {},
   "outputs": [],
   "source": [
    "df_Motivo_Classificacao.head() "
   ]
  },
  {
   "cell_type": "markdown",
   "id": "9e54faf0",
   "metadata": {},
   "source": [
    "### Professores"
   ]
  },
  {
   "cell_type": "code",
   "execution_count": null,
   "id": "66239c36",
   "metadata": {},
   "outputs": [],
   "source": [
    "df_Professores.head()"
   ]
  },
  {
   "cell_type": "markdown",
   "id": "3c509ecb",
   "metadata": {},
   "source": [
    "## Preparação dos dados para união"
   ]
  },
  {
   "cell_type": "markdown",
   "id": "40dc8d8b",
   "metadata": {},
   "source": [
    "### Acessos"
   ]
  },
  {
   "cell_type": "markdown",
   "id": "f8db39cf",
   "metadata": {},
   "source": [
    "Verifica o formato dos dados e a presença de valores nulos."
   ]
  },
  {
   "cell_type": "code",
   "execution_count": null,
   "id": "64c863c7",
   "metadata": {},
   "outputs": [],
   "source": [
    "df_acessos.info()"
   ]
  },
  {
   "cell_type": "markdown",
   "id": "74edec0d",
   "metadata": {},
   "source": [
    "Ajusta o formato dos dados"
   ]
  },
  {
   "cell_type": "code",
   "execution_count": null,
   "id": "d33eee9e",
   "metadata": {},
   "outputs": [],
   "source": [
    "#Define a coluna dt_acesso como datetime\n",
    "df_acessos['dt_acesso'] = pd.to_datetime(df_acessos['dt_acesso'])\n",
    "\n",
    "df_acessos.info()"
   ]
  },
  {
   "cell_type": "markdown",
   "id": "6742166d",
   "metadata": {},
   "source": [
    "Transforma o dataframe de acesso em um conjunto de dados agrupados por aluno, com as colunas referentes as informações de acesso de cada aluno"
   ]
  },
  {
   "cell_type": "code",
   "execution_count": null,
   "id": "aa6a5117",
   "metadata": {},
   "outputs": [],
   "source": [
    "df_acessos = df_acessos.groupby('cd_aluno').agg(\n",
    "    primeiro_login=('dt_acesso', 'min'),\n",
    "    ultimo_login=('dt_acesso', 'max'),\n",
    "    total_logins=('dt_acesso', 'count'),\n",
    ").assign(\n",
    "    dias_desde_primeiro_login=lambda df: (pd.to_datetime('2023-12-31') - df['primeiro_login']).dt.days,\n",
    "    media_acessos_por_dia=lambda df: df['total_logins'] / df['dias_desde_primeiro_login']\n",
    ")\n",
    "\n",
    "df_alunos.rename(columns={'ds_curso': 'curso'}, inplace=True)\n",
    "\n",
    "df_acessos.head()\n"
   ]
  },
  {
   "cell_type": "markdown",
   "id": "9075df44",
   "metadata": {},
   "source": [
    "### Professores"
   ]
  },
  {
   "cell_type": "markdown",
   "id": "1de4b71c",
   "metadata": {},
   "source": [
    "Verifica o formato dos dados e a presença de valores nulos."
   ]
  },
  {
   "cell_type": "code",
   "execution_count": null,
   "id": "ca62862f",
   "metadata": {},
   "outputs": [],
   "source": [
    "#Exibe as informações do dataframe\n",
    "df_Professores.info()"
   ]
  },
  {
   "cell_type": "markdown",
   "id": "a6b07eb4",
   "metadata": {},
   "source": [
    "Transforma o dataframe de professores em um conjunto de dados agrupados por curso e semestre_que_leciona, com as colunas referentes as informações de cada professor"
   ]
  },
  {
   "cell_type": "code",
   "execution_count": null,
   "id": "c5c7eff6",
   "metadata": {},
   "outputs": [],
   "source": [
    "# renomeia coluna para facilitar agrupamento com tabela de alunos\n",
    "df_Professores.rename(columns={'semestre_que_leciona': 'semestre_atual'}, inplace=True)\n",
    "\n",
    "# Agrupar por cd_curso e semestre_que_leciona\n",
    "df_Professores = df_Professores.groupby(['cd_curso', 'semestre_atual']).agg(\n",
    "    qtd_professores=('cd_professor', 'nunique'),\n",
    "    qtd_professores_mestrado=('nivel_formacao_professor', lambda x: (x == 'Mestrado').sum()),\n",
    "    qtd_professores_doutorado=('nivel_formacao_professor', lambda x: (x == 'Doutorado').sum()),\n",
    "    qtd_professores_especialista=('nivel_formacao_professor', lambda x: (x == 'Especialização').sum()),\n",
    "    qtd_professores_graduado=('nivel_formacao_professor', lambda x: (x == 'Graduação').sum()),\n",
    "    qtd_professores_M=('genero', lambda x: (x == 'M').sum()),\n",
    "    qtd_professores_F=('genero', lambda x: (x == 'F').sum()),\n",
    "    idade_min_professores=('idade', 'min'),\n",
    "    idade_max_professores=('idade', 'max'),\n",
    "    idade_media_professores=('idade', 'mean')\n",
    ").reset_index()\n",
    "\n",
    "#Exibe as informações do dataframe\n",
    "df_Professores.info()\n",
    "\n",
    "# Exibir as estatísticas\n",
    "df_Professores.head()\n",
    "\n"
   ]
  },
  {
   "cell_type": "markdown",
   "id": "215a7d5e",
   "metadata": {},
   "source": [
    "## União dos dados"
   ]
  },
  {
   "cell_type": "markdown",
   "id": "908054b9",
   "metadata": {},
   "source": [
    "### Alunos + Acessos"
   ]
  },
  {
   "cell_type": "code",
   "execution_count": null,
   "id": "714a019f",
   "metadata": {},
   "outputs": [],
   "source": [
    "#Une os dataframes df_alunos e df_acessos\n",
    "df_dataset = pd.merge(df_alunos, df_acessos, on='cd_aluno', how='left')\n",
    "#Exibe as informações do dataframe\n",
    "df_dataset.info()\n",
    "#Exibe as primeiras linhas do dataframe\n",
    "df_dataset.head()"
   ]
  },
  {
   "cell_type": "code",
   "execution_count": null,
   "id": "5f0628dd",
   "metadata": {},
   "outputs": [],
   "source": [
    "# Preenche os valores nulos nas colunas 'primeiro_login' e 'ultimo_login' com a data do último dia de 2023\n",
    "df_dataset['primeiro_login'] = df_dataset['primeiro_login'].fillna(pd.Timestamp('2023-12-31'))\n",
    "df_dataset['ultimo_login'] = df_dataset['ultimo_login'].fillna(pd.Timestamp('2023-12-31'))\n",
    "\n",
    "# Preenche os valores nulos nas colunas 'dias_desde_primeiro_login' e 'media_acessos_por_dia' com 0\n",
    "df_dataset['total_logins'] = df_dataset['total_logins'].fillna(0).astype('int64')\n",
    "df_dataset['dias_desde_primeiro_login'] = df_dataset['dias_desde_primeiro_login'].fillna(0).astype('int64')\n",
    "df_dataset['media_acessos_por_dia'] = df_dataset['media_acessos_por_dia'].fillna(0).astype('float64')\n",
    "\n",
    "#Exibe as informações do dataframe\n",
    "df_dataset.info()\n",
    "\n",
    "#Exibe as primeiras linhas do dataframe\n",
    "df_dataset.head()"
   ]
  },
  {
   "cell_type": "markdown",
   "id": "a452df25",
   "metadata": {},
   "source": [
    "### Alunos + Acessos + Cursos"
   ]
  },
  {
   "cell_type": "code",
   "execution_count": null,
   "id": "ae823b5f",
   "metadata": {},
   "outputs": [],
   "source": [
    "#Une os dataframes df_dataset e df_Cursos\n",
    "df_dataset = pd.merge(df_dataset, df_cursos[['cd_curso','dt_inauguracao', 'semestres_existencia']], on='cd_curso', how='left')\n",
    "\n",
    "#Renomeia as colunas dt_inauguracao e semestres_existencia para dt_inauguracao_curso e semestres_existencia_curso\n",
    "df_dataset.rename(columns={'dt_inauguracao': 'dt_inauguracao_curso', 'semestres_existencia': 'semestres_existencia_curso'}, inplace=True)\n",
    "\n",
    "df_dataset.head()"
   ]
  },
  {
   "cell_type": "markdown",
   "id": "207077fc",
   "metadata": {},
   "source": [
    "### Alunos + Acessos + Cursos + Motivo"
   ]
  },
  {
   "cell_type": "markdown",
   "id": "8995655e",
   "metadata": {},
   "source": [
    "#### União auxiliar - Motivos e Motivos Classificação"
   ]
  },
  {
   "cell_type": "markdown",
   "id": "e0bb8421",
   "metadata": {},
   "source": [
    "Une as tabelas auxiliares de motivo e motivo_classificacao"
   ]
  },
  {
   "cell_type": "code",
   "execution_count": null,
   "id": "45625143",
   "metadata": {},
   "outputs": [],
   "source": [
    "#Une os dataframes df_Motivo e df_Motivo_Classificacao\n",
    "df_dataset_motivo = df_Motivo.merge(df_Motivo_Classificacao[['ds_motivo', 'categoria_motivo_cancelamento']], how='inner', on='ds_motivo')\n",
    "\n",
    "#Removida a coluna ds_motivo pois não usada na analise\n",
    "df_dataset_motivo.drop('ds_motivo', axis=1, inplace=True)\n",
    "\n",
    "#Exibe as informações do dataframe\n",
    "df_dataset_motivo.info()\n",
    "\n",
    "#Exibe as primeiras linhas do dataframe\n",
    "df_dataset_motivo.head()"
   ]
  },
  {
   "cell_type": "markdown",
   "id": "d086ada8",
   "metadata": {},
   "source": [
    "Ajusta o tipo de dados"
   ]
  },
  {
   "cell_type": "code",
   "execution_count": null,
   "id": "6b961fcb",
   "metadata": {},
   "outputs": [],
   "source": [
    "#Ajusta o tipo de dado da coluna dt_saida para datetime\n",
    "df_dataset_motivo['dt_saida'] = pd.to_datetime(df_dataset_motivo['dt_saida'])\n",
    "\n",
    "#Exibe as informações do dataframe\n",
    "df_dataset_motivo.info()\n",
    "\n",
    "#Exibe as primeiras linhas do dataframe\n",
    "df_dataset_motivo.head()"
   ]
  },
  {
   "cell_type": "markdown",
   "id": "65f278be",
   "metadata": {},
   "source": [
    "Verifica se existe duplicidade de dados (Erros lançados pelo sistema de origem da IES)"
   ]
  },
  {
   "cell_type": "code",
   "execution_count": null,
   "id": "15dd812d",
   "metadata": {},
   "outputs": [],
   "source": [
    "#Identificacao de duplicidades \n",
    "duplicados = df_dataset_motivo.duplicated(['cd_aluno','cd_curso']).sum()\n",
    "print(\"Registros duplicados:\" , duplicados)"
   ]
  },
  {
   "cell_type": "markdown",
   "id": "88246404",
   "metadata": {},
   "source": [
    "Removendo duplicidades"
   ]
  },
  {
   "cell_type": "code",
   "execution_count": null,
   "id": "a63c188d",
   "metadata": {},
   "outputs": [],
   "source": [
    "# Encontra o índice da data de saída mais recente para cada aluno\n",
    "idx = df_dataset_motivo.groupby(['cd_aluno','cd_curso'])['dt_saida'].idxmax()\n",
    "\n",
    "# Use esses índices para selecionar as linhas correspondentes do dataframe\n",
    "df_dataset_motivo = df_dataset_motivo.loc[idx]\n",
    "\n",
    "#Identificacao de duplicidades\n",
    "duplicados = df_dataset_motivo.duplicated(['cd_aluno','cd_curso']).sum()\n",
    "print(\"Registros duplicados:\" , duplicados)"
   ]
  },
  {
   "cell_type": "markdown",
   "id": "259a69c8",
   "metadata": {},
   "source": [
    "Exibição dos dados"
   ]
  },
  {
   "cell_type": "code",
   "execution_count": null,
   "id": "f664c1e5",
   "metadata": {},
   "outputs": [],
   "source": [
    "#Exibe as informações do dataframe\n",
    "df_dataset_motivo.info()\n",
    "\n",
    "#Exibe as primeiras linhas do dataframe\n",
    "df_dataset_motivo.head()"
   ]
  },
  {
   "cell_type": "markdown",
   "id": "65d53906",
   "metadata": {},
   "source": [
    "#### União final"
   ]
  },
  {
   "cell_type": "code",
   "execution_count": null,
   "id": "a4f9bbf2",
   "metadata": {},
   "outputs": [],
   "source": [
    "#Une os dataframes df_dataset e df_dataset_motivo\n",
    "df_dataset = pd.merge(df_dataset, df_dataset_motivo[['cd_aluno', 'cd_curso','categoria_motivo_cancelamento']], how='left', on=['cd_aluno','cd_curso'])\n",
    "\n",
    "#Exibe as informações do dataframe\n",
    "df_dataset.info()"
   ]
  },
  {
   "cell_type": "markdown",
   "id": "9208dae5",
   "metadata": {},
   "source": [
    "Tratar valores nulos após agrupamento"
   ]
  },
  {
   "cell_type": "code",
   "execution_count": null,
   "id": "4de646f3",
   "metadata": {},
   "outputs": [],
   "source": [
    "#preenche com o texto \"Abandono\" os valores nulos da coluna 'categoria_motivo_cancelamento'\n",
    "df_dataset['categoria_motivo_cancelamento'] = df_dataset['categoria_motivo_cancelamento'].fillna('Abandono').where(df_dataset['evasao'] == 1, 'NA')\n",
    "\n",
    "#Exibe as informações do dataframe\n",
    "df_dataset.info()\n",
    "\n",
    "#Exibe as primeiras linhas do dataframe\n",
    "df_dataset.head()"
   ]
  },
  {
   "cell_type": "markdown",
   "id": "6633ee34",
   "metadata": {},
   "source": [
    "### Alunos + Acessos + Cursos + Motivo + Professores"
   ]
  },
  {
   "cell_type": "markdown",
   "id": "8d419ce3",
   "metadata": {},
   "source": [
    "Une os dataframes df_dataset e df_professores"
   ]
  },
  {
   "cell_type": "code",
   "execution_count": null,
   "id": "d3e42302",
   "metadata": {},
   "outputs": [],
   "source": [
    "#Une os dataframes df_dataset e df_Professores\n",
    "df_dataset = pd.merge(df_dataset, df_Professores, how='left', on=['cd_curso','semestre_atual'])\n",
    "\n",
    "#Exibe as informações do dataframe\n",
    "df_dataset.info()"
   ]
  },
  {
   "cell_type": "markdown",
   "id": "aac6ede2",
   "metadata": {},
   "source": [
    "Verifica registros com dados nulos"
   ]
  },
  {
   "cell_type": "code",
   "execution_count": null,
   "id": "4b907a34",
   "metadata": {},
   "outputs": [],
   "source": [
    "#Exibe os registros que possuem linhas com valores nulos\n",
    "df_dataset[df_dataset.isna().any(axis=1)]"
   ]
  },
  {
   "cell_type": "markdown",
   "id": "130a6d53",
   "metadata": {},
   "source": [
    "Remove registros com dados nulos"
   ]
  },
  {
   "cell_type": "code",
   "execution_count": null,
   "id": "9a40d7f7",
   "metadata": {},
   "outputs": [],
   "source": [
    "#Removidos alunos que não tinham nenhuma amarração com professor\n",
    "df_dataset = df_dataset.dropna()"
   ]
  },
  {
   "cell_type": "markdown",
   "id": "d0ccc7c1",
   "metadata": {},
   "source": [
    "Exibe as informações"
   ]
  },
  {
   "cell_type": "code",
   "execution_count": null,
   "id": "74df7025",
   "metadata": {},
   "outputs": [],
   "source": [
    "#Exibe as informações do dataframe\n",
    "df_dataset.info()\n",
    "\n",
    "#Exibe as primeiras linhas do dataframe\n",
    "df_dataset.head()"
   ]
  },
  {
   "cell_type": "markdown",
   "id": "26262551",
   "metadata": {},
   "source": [
    "## Verificação e Exportação de Dados"
   ]
  },
  {
   "cell_type": "markdown",
   "id": "9b48d2ce",
   "metadata": {},
   "source": [
    "### Verificação"
   ]
  },
  {
   "cell_type": "code",
   "execution_count": null,
   "id": "5a601d2c",
   "metadata": {},
   "outputs": [],
   "source": [
    "#Exibir informações sobre o dataframe\n",
    "df_dataset.info()\n",
    "\n",
    "#Exibir estatísticas descritivas do dataframe\n",
    "df_dataset.describe()"
   ]
  },
  {
   "cell_type": "markdown",
   "id": "a5901ce3",
   "metadata": {},
   "source": [
    "### Exportação"
   ]
  },
  {
   "cell_type": "code",
   "execution_count": null,
   "id": "b40a3cf7",
   "metadata": {},
   "outputs": [],
   "source": [
    "#Exporta o dataframe para um arquivo CSV\n",
    "df_dataset.to_csv('../data/dataset.csv', index=False)"
   ]
  }
 ],
 "metadata": {
  "kernelspec": {
   "display_name": "Python 3 (ipykernel)",
   "language": "python",
   "name": "python3"
  },
  "language_info": {
   "codemirror_mode": {
    "name": "ipython",
    "version": 3
   },
   "file_extension": ".py",
   "mimetype": "text/x-python",
   "name": "python",
   "nbconvert_exporter": "python",
   "pygments_lexer": "ipython3",
   "version": "3.11.7"
  }
 },
 "nbformat": 4,
 "nbformat_minor": 5
}
