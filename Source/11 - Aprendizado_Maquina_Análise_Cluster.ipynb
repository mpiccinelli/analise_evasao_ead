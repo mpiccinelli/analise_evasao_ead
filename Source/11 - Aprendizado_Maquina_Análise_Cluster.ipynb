{
 "cells": [
  {
   "cell_type": "markdown",
   "metadata": {},
   "source": [
    "# Obtenção e carregamento dos dados"
   ]
  },
  {
   "cell_type": "code",
   "execution_count": null,
   "metadata": {},
   "outputs": [],
   "source": [
    "# Importação das bibliotecas necessárias\n",
    "import pandas as pd\n",
    "import numpy as np\n",
    "import matplotlib.pyplot as plt\n",
    "import matplotlib.patches as mpatches\n",
    "import seaborn as sns\n",
    "from sklearn.cluster import KMeans\n",
    "from sklearn.metrics import silhouette_score"
   ]
  },
  {
   "cell_type": "code",
   "execution_count": null,
   "metadata": {},
   "outputs": [],
   "source": [
    "# Importação do arquivo CSV\n",
    "df = pd.read_csv('../Data/dataset_clustered.csv')"
   ]
  },
  {
   "cell_type": "markdown",
   "metadata": {},
   "source": [
    "# Definição e tratamento dos dados de entrada."
   ]
  },
  {
   "cell_type": "markdown",
   "metadata": {},
   "source": [
    "## Informações sobre o dataset"
   ]
  },
  {
   "cell_type": "code",
   "execution_count": null,
   "metadata": {},
   "outputs": [],
   "source": [
    "df.info()\n",
    "df.head()"
   ]
  },
  {
   "cell_type": "markdown",
   "metadata": {},
   "source": [
    "## Tratamento de valores ausentes"
   ]
  },
  {
   "cell_type": "code",
   "execution_count": null,
   "metadata": {},
   "outputs": [],
   "source": [
    "#preenche com o texto \"Abandono\" os valores nulos da coluna 'categoria_motivo_cancelamento' se a coluna evasao for igual a 1, caso contrário deixa vazio\n",
    "df['categoria_motivo_cancelamento'] = df['categoria_motivo_cancelamento'].fillna('Abandono').where(df['evasao'] == 1, 'NA')\n",
    "\n",
    "df.info()"
   ]
  },
  {
   "cell_type": "markdown",
   "metadata": {},
   "source": [
    "## Separação de variaveis categoricas e numericas"
   ]
  },
  {
   "cell_type": "code",
   "execution_count": null,
   "metadata": {},
   "outputs": [],
   "source": [
    "# Defina as colunas numéricas e categóricas\n",
    "num_cols = (df.select_dtypes(include=['int64', 'float64']).columns).where(df.select_dtypes(include=['int64', 'float64']).columns != 'evasao').dropna().tolist()\n",
    "cat_cols = ['genero', 'ds_ensino_medio', 'ds_ingresso', 'cd_curso', 'situacao', 'categoria_motivo_cancelamento']"
   ]
  },
  {
   "cell_type": "markdown",
   "metadata": {},
   "source": [
    "# Análise dos clusters"
   ]
  },
  {
   "cell_type": "markdown",
   "metadata": {},
   "source": [
    "## Identificação e distribuição dos clusters\t"
   ]
  },
  {
   "cell_type": "code",
   "execution_count": null,
   "metadata": {},
   "outputs": [],
   "source": [
    "n_clusters = df['cluster'].nunique()\n",
    "\n",
    "# Calcula o total de registros\n",
    "total = len(df)\n",
    "# Criando uma lista de cores para cada cluster\n",
    "colors=[ '#FFC75F', '#FF9671', '#FF6F91', '#D65DB1', '#845EC2']\n",
    "plt.figure(figsize=(10, 6))\n",
    "df['cluster'].value_counts().plot(kind='pie', autopct=lambda p: '{:.0f}\\n({:.1f}%)'.format((p/100)*total,p), startangle=90, shadow=False, legend=False, fontsize=12, colors=colors)\n",
    "plt.title('Distribuição de alunos por cluster')\n",
    "\n",
    "labels = []\n",
    "for i in range(n_clusters):\n",
    "    labels.append(f'Cluster {i}')\n",
    "\n",
    "# Cria uma lista de patches para a legenda\n",
    "patches = [mpatches.Patch(color=color, label=label) for color, label in zip(colors, labels)]\n",
    "\n",
    "plt.legend(handles=patches, loc='upper right')\n",
    "plt.axis('equal')\n",
    "plt.ylabel('')\n",
    "plt.show()\n"
   ]
  },
  {
   "cell_type": "markdown",
   "metadata": {},
   "source": [
    "## Estudo das variáveis"
   ]
  },
  {
   "cell_type": "markdown",
   "metadata": {},
   "source": [
    "### Média de cada variável por cluster"
   ]
  },
  {
   "cell_type": "code",
   "execution_count": null,
   "metadata": {},
   "outputs": [],
   "source": [
    "# Calcula a média de cada variavel numérica por cluster\n",
    "df.groupby('cluster')[num_cols].mean().round(2)"
   ]
  },
  {
   "cell_type": "markdown",
   "metadata": {},
   "source": [
    "### Evasão por cluster"
   ]
  },
  {
   "cell_type": "code",
   "execution_count": null,
   "metadata": {},
   "outputs": [],
   "source": [
    "# Cálculo da média de evasão para cada cluster\n",
    "evasao_por_cluster = pd.DataFrame(df.groupby('cluster')['evasao'].mean().round(2))\n",
    "evasao_por_cluster.head()"
   ]
  },
  {
   "cell_type": "markdown",
   "metadata": {},
   "source": [
    "## Perfil dos clusters"
   ]
  },
  {
   "cell_type": "markdown",
   "metadata": {},
   "source": [
    "### Características dos clusters"
   ]
  },
  {
   "cell_type": "markdown",
   "metadata": {},
   "source": [
    "#### Componentes numéricos"
   ]
  },
  {
   "cell_type": "markdown",
   "metadata": {},
   "source": [
    "##### Descrição dos componentes por cluster"
   ]
  },
  {
   "cell_type": "code",
   "execution_count": null,
   "metadata": {},
   "outputs": [],
   "source": [
    "# Para as características numéricas\n",
    "df_desc_num = pd.DataFrame(df.groupby('cluster')[num_cols].describe().T)\n",
    "df_desc_num.head(16)"
   ]
  },
  {
   "cell_type": "markdown",
   "metadata": {},
   "source": [
    "##### Distribuição dos componentes numéricos por cluster"
   ]
  },
  {
   "cell_type": "code",
   "execution_count": null,
   "metadata": {},
   "outputs": [],
   "source": [
    "df_no_outliers = pd.DataFrame()\n",
    "# Para cada coluna numérica\n",
    "for col in num_cols:\n",
    "    # Para cada cluster\n",
    "    for i in range(n_clusters):\n",
    "        cluster_data = df[df['cluster'] == i]\n",
    "        \n",
    "        Q1 = cluster_data[col].quantile(0.25)\n",
    "        Q3 = cluster_data[col].quantile(0.75)\n",
    "        IQR = Q3 - Q1\n",
    "\n",
    "        # Somente mantém valores dentro de 1.5*IQR da mediana\n",
    "        filtered_data = cluster_data[(cluster_data[col] >= Q1 - 1.5*IQR) & (cluster_data[col] <= Q3 + 1.5*IQR)]\n",
    "        \n",
    "        # Adicione os dados filtrados ao novo DataFrame\n",
    "        df_no_outliers = pd.concat([df_no_outliers, filtered_data], axis=0)\n",
    "\n",
    "for col in num_cols:\n",
    "    plt.figure(figsize=(10, 6))\n",
    "    sns.boxplot(x='cluster', y=col, data=df_no_outliers, palette=colors)\n",
    "    plt.title(f'Distribuição de {col} por cluster (IQR)')\n",
    "    plt.show()"
   ]
  },
  {
   "cell_type": "markdown",
   "metadata": {},
   "source": [
    "#### Componentes categóricos"
   ]
  },
  {
   "cell_type": "markdown",
   "metadata": {},
   "source": [
    "##### Total de componentes por cluster"
   ]
  },
  {
   "cell_type": "code",
   "execution_count": null,
   "metadata": {},
   "outputs": [],
   "source": [
    "# Para as características categóricas\n",
    "df_cat = pd.DataFrame()\n",
    "for col in cat_cols:\n",
    "    temp_df = df.groupby('cluster')[col].value_counts().unstack().fillna(0)\n",
    "    temp_df.columns = [f'{col}_{c}' for c in temp_df.columns]\n",
    "    df_cat = pd.concat([df_cat, temp_df], axis=1)\n",
    "df_cat = df_cat.T\n",
    "\n",
    "df_cat.head(16)"
   ]
  },
  {
   "cell_type": "markdown",
   "metadata": {},
   "source": [
    "##### Descrição dos componentes categoricos por cluster"
   ]
  },
  {
   "cell_type": "code",
   "execution_count": null,
   "metadata": {},
   "outputs": [],
   "source": [
    "# Para cada coluna categórica\n",
    "for col in cat_cols:\n",
    "    df_cat_col = df.groupby('cluster')[col].value_counts().unstack().fillna(0)\n",
    "    \n",
    "    df_cat_col.plot(kind='barh', stacked=True, figsize=(20, 6))\n",
    "    plt.title(f'Distribuição de {col} por cluster')\n",
    "    plt.legend(bbox_to_anchor=(-0.01, -0.05), loc='upper left', ncol=9) \n",
    "    plt.show()"
   ]
  },
  {
   "cell_type": "markdown",
   "metadata": {},
   "source": [
    "#### Componente evasão"
   ]
  },
  {
   "cell_type": "code",
   "execution_count": null,
   "metadata": {},
   "outputs": [],
   "source": [
    "# Calcule a contagem de evasores para cada cluster\n",
    "evasao_counts = df[df['evasao'] == 1].groupby('cluster').size()\n",
    "\n",
    "# Crie um gráfico de barras para a contagem de evasores\n",
    "evasao_counts.plot(kind='bar', figsize=(10, 6))\n",
    "plt.title('Distribuição dos alunos evasores por cluster')\n",
    "plt.xlabel('Cluster')\n",
    "plt.ylabel('Alunos evasores')\n",
    "plt.show()\n"
   ]
  }
 ],
 "metadata": {
  "kernelspec": {
   "display_name": "base",
   "language": "python",
   "name": "python3"
  },
  "language_info": {
   "codemirror_mode": {
    "name": "ipython",
    "version": 3
   },
   "file_extension": ".py",
   "mimetype": "text/x-python",
   "name": "python",
   "nbconvert_exporter": "python",
   "pygments_lexer": "ipython3",
   "version": "3.11.7"
  }
 },
 "nbformat": 4,
 "nbformat_minor": 2
}
