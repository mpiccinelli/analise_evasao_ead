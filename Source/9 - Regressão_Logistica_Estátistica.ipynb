{
 "cells": [
  {
   "cell_type": "markdown",
   "id": "d22481da-44c2-4e51-a32f-a0c2d711c053",
   "metadata": {},
   "source": [
    "# Obtenção e tratamento de dados\n"
   ]
  },
  {
   "cell_type": "markdown",
   "id": "370ec855-083f-4859-bf92-513517deb207",
   "metadata": {
    "jp-MarkdownHeadingCollapsed": true
   },
   "source": [
    "## Obtenção e carregamento de dados\n"
   ]
  },
  {
   "cell_type": "code",
   "execution_count": null,
   "id": "fe43db2f-1929-4b0b-8a5c-23317b96f039",
   "metadata": {},
   "outputs": [],
   "source": [
    "#importação de bibliotecas\n",
    "import pandas as pd\n",
    "import statsmodels.api as sm\n",
    "import numpy as np\n",
    "from statsmodels.stats.outliers_influence import variance_inflation_factor\n"
   ]
  },
  {
   "cell_type": "code",
   "execution_count": null,
   "id": "346d7e4c-618a-4b2e-80cb-3c007ebbc59e",
   "metadata": {},
   "outputs": [],
   "source": [
    "#Carregamento de dados limpos da pasta ../data/\n",
    "df = pd.read_csv('../Data/dataset.csv')"
   ]
  },
  {
   "cell_type": "markdown",
   "id": "398162c0",
   "metadata": {},
   "source": [
    "## Informações sobre o dataset\n"
   ]
  },
  {
   "cell_type": "code",
   "execution_count": null,
   "id": "614d22be",
   "metadata": {},
   "outputs": [],
   "source": [
    "#Exibição dos dados\n",
    "df.head()"
   ]
  },
  {
   "cell_type": "code",
   "execution_count": null,
   "id": "e9a15af6",
   "metadata": {},
   "outputs": [],
   "source": [
    "#Exibição de informações sobre os dados\n",
    "df.info()"
   ]
  },
  {
   "cell_type": "code",
   "execution_count": null,
   "id": "5c095b3a",
   "metadata": {},
   "outputs": [],
   "source": [
    "#Exibição de estatísticas descritivas\n",
    "df.describe()"
   ]
  },
  {
   "cell_type": "markdown",
   "id": "9ef91847",
   "metadata": {},
   "source": [
    "## Ajuste de tipos\n"
   ]
  },
  {
   "cell_type": "code",
   "execution_count": null,
   "id": "9a66a139",
   "metadata": {},
   "outputs": [],
   "source": [
    "#Matricula\n",
    "df['dt_matricula'] = pd.to_datetime(df['dt_matricula'])\n",
    "#Saida\n",
    "df['dt_saida'] = pd.to_datetime(df['dt_saida'])\n",
    "#Primeiro login\n",
    "df['primeiro_login'] = pd.to_datetime(df['primeiro_login'])\n",
    "#Ultimo login\n",
    "df['ultimo_login'] = pd.to_datetime(df['ultimo_login'])\n",
    "\n",
    "#Idade\n",
    "df['idade'] = df['idade'].astype('int64')\n",
    "#Total de logins\n",
    "df['total_logins'] = df['total_logins'].astype('int64')\n",
    "#Dias desde o primeiro login\n",
    "df['dias_desde_primeiro_login'] = df['dias_desde_primeiro_login'].astype('int64')\n",
    "# Quantidade Mestrado\n",
    "df['qtd_professores_mestrado'] = df['qtd_professores_mestrado'].astype('int64')\n",
    "# Quantidade Doutorado\n",
    "df['qtd_professores_doutorado'] = df['qtd_professores_doutorado'].astype('int64')\n",
    "# Quantidade Especialização\n",
    "df['qtd_professores_especialista'] = df['qtd_professores_especialista'].astype('int64')\n",
    "# Quantidade Graduado\n",
    "df['qtd_professores_graduado'] = df['qtd_professores_graduado'].astype('int64')\n",
    "# Quantidade de professores Masculino\n",
    "df['qtd_professores_M'] = df['qtd_professores_M'].astype('int64')\n",
    "# Quantidade de professores Feminino\n",
    "df['qtd_professores_F'] = df['qtd_professores_F'].astype('int64')\n",
    "# Menor idade de um professor\n",
    "df['idade_min_professores'] = df['idade_min_professores'].astype('int64')\n",
    "# Maior idade de um professor\n",
    "df['idade_max_professores'] = df['idade_max_professores'].astype('int64')\n",
    "\n",
    "#Data de registro para string\n",
    "df['dt_registro'] = df['dt_registro'].astype(object)\n",
    "#Data de inauguração do curso\n",
    "df['dt_inauguracao_curso'] = df['dt_inauguracao_curso'].astype(object)\n",
    "\n",
    "#Exibição de informações sobre os dados\n",
    "df.info()\n",
    "#Exibição de estatísticas descritivas\n",
    "df.head()\n"
   ]
  },
  {
   "cell_type": "markdown",
   "id": "541eb855",
   "metadata": {},
   "source": [
    "## Tratamento de valores ausentes\n"
   ]
  },
  {
   "cell_type": "code",
   "execution_count": null,
   "id": "137bcf2e",
   "metadata": {},
   "outputs": [],
   "source": [
    "#preenche com o texto \"Abandono\" os valores nulos da coluna 'categoria_motivo_cancelamento'\n",
    "df['categoria_motivo_cancelamento'] = df['categoria_motivo_cancelamento'].fillna('Abandono').where(df['evasao'] == 1, 'NA')\n",
    "\n",
    "#Exibe os valores unicos da coluna 'categoria_motivo_cancelamento'\n",
    "df['categoria_motivo_cancelamento'].unique()"
   ]
  },
  {
   "cell_type": "markdown",
   "id": "4e6e248f",
   "metadata": {},
   "source": [
    "Exibição dos dados\n"
   ]
  },
  {
   "cell_type": "code",
   "execution_count": null,
   "id": "4848e0ee",
   "metadata": {},
   "outputs": [],
   "source": [
    "#Exibe as informações sobre os dados\n",
    "df.info()\n",
    "#Exibe as estatísticas descritivas\n",
    "df.head()"
   ]
  },
  {
   "cell_type": "markdown",
   "id": "007078f6",
   "metadata": {},
   "source": [
    "# Estatísticas (Regressão logística) - Construção do modelo"
   ]
  },
  {
   "cell_type": "markdown",
   "id": "7deab798",
   "metadata": {},
   "source": [
    "## Amostra dos dados"
   ]
  },
  {
   "cell_type": "code",
   "execution_count": null,
   "id": "523c0f31",
   "metadata": {},
   "outputs": [],
   "source": [
    "df.head()"
   ]
  },
  {
   "cell_type": "markdown",
   "id": "570bf02a",
   "metadata": {},
   "source": [
    "## Codificação de variáveis categóricas e numéricas"
   ]
  },
  {
   "cell_type": "code",
   "execution_count": null,
   "id": "eaf38fe3",
   "metadata": {},
   "outputs": [],
   "source": [
    "# Exclua as colunas que não serão usadas\n",
    "df = df.drop(['cd_aluno','nome', 'curso','cidade','titulacao', 'estado', 'semestre_atual','dias_matriculado_semestre','total_logins','qtd_aprovacoes','valor_mensalidade_bruto', 'percentual_desconto','dias_desde_primeiro_login', 'dt_registro', 'cd_curso', 'dt_inauguracao_curso', 'categoria_motivo_cancelamento','situacao','dt_matricula', 'dt_saida', 'primeiro_login', 'ultimo_login', 'idade_min_professores', 'idade_max_professores','qtd_professores','qtd_professores_F'], axis=1)"
   ]
  },
  {
   "cell_type": "code",
   "execution_count": null,
   "id": "eb22010e",
   "metadata": {},
   "outputs": [],
   "source": [
    "# Defina as colunas numéricas e categóricas\n",
    "num_cols = ['idade', 'evasao', 'valor_mensalidade_liquido', 'qtd_mensalidade_paga_atraso', 'qtd_semestres_curso', 'qtd_reprovacoes', 'coeficiente_rendimento',  'media_acessos_por_dia', 'semestres_existencia_curso', 'qtd_professores_mestrado', 'qtd_professores_doutorado', 'qtd_professores_especialista', 'qtd_professores_graduado', 'qtd_professores_M',  'idade_media_professores']\n",
    "cat_cols = ['genero', 'ds_ensino_medio', 'ds_ingresso', ]\n",
    "\n",
    "#Criar um dataframe de cópia\n",
    "df_original = df.copy()\n",
    "\n",
    "\n",
    "# Defina a ordem desejada para cada variável categórica\n",
    "genero_ordem = ['NF', 'M', 'F']\n",
    "ds_ensino_medio_ordem = ['Não informado', 'Escola Pública', 'Escola Privada']\n",
    "ds_ingresso_ordem = ['Reingresso', 'ENEM', 'Segunda Graduação', 'Transferência', 'Vestibular']\n",
    "\n",
    "# Reordene as categorias\n",
    "df['genero'] = df['genero'].astype('category').cat.reorder_categories(genero_ordem, ordered=True)\n",
    "df['ds_ensino_medio'] = df['ds_ensino_medio'].astype('category').cat.reorder_categories(ds_ensino_medio_ordem, ordered=True)\n",
    "df['ds_ingresso'] = df['ds_ingresso'].astype('category').cat.reorder_categories(ds_ingresso_ordem, ordered=True)\n",
    "\n",
    "# Realize a codificação one-hot e remova a primeira variável fictícia para cada variável categórica\n",
    "df = pd.get_dummies(df, columns=['genero', 'ds_ensino_medio', 'ds_ingresso'], drop_first=True)\n",
    "\n",
    "# Converta as colunas booleanas em inteiros\n",
    "for col in df.columns:\n",
    "    if df[col].dtype == 'bool':\n",
    "        df[col] = df[col].astype(int)\n",
    "\n",
    "df.info()\n",
    "df.head()"
   ]
  },
  {
   "cell_type": "markdown",
   "id": "2e3eed04",
   "metadata": {},
   "source": [
    "## Definição de variáveis independentes e dependentes\n"
   ]
  },
  {
   "cell_type": "code",
   "execution_count": null,
   "id": "acbe84d8",
   "metadata": {},
   "outputs": [],
   "source": [
    "X = df.drop(['evasao'], axis=1)\n",
    "y = df['evasao']"
   ]
  },
  {
   "cell_type": "markdown",
   "id": "5a9484a8",
   "metadata": {},
   "source": [
    "## Adição de constante para ajuste do modelo"
   ]
  },
  {
   "cell_type": "code",
   "execution_count": null,
   "id": "3a7ef25e",
   "metadata": {},
   "outputs": [],
   "source": [
    "X = sm.add_constant(X)"
   ]
  },
  {
   "cell_type": "markdown",
   "id": "0d451cdf",
   "metadata": {},
   "source": [
    "## Verificar o fator de inflação da variância (VIF)"
   ]
  },
  {
   "cell_type": "code",
   "execution_count": null,
   "id": "614abdb4",
   "metadata": {},
   "outputs": [],
   "source": [
    "# Calcule o VIF para cada variável independente\n",
    "vif = pd.DataFrame()\n",
    "vif[\"VIF Factor\"] = [variance_inflation_factor(X.values, i) for i in range(X.shape[1])]\n",
    "vif[\"features\"] = X.columns\n",
    "\n",
    "vif.sort_values('VIF Factor', ascending=False).head(60)"
   ]
  },
  {
   "cell_type": "markdown",
   "id": "abfc4285",
   "metadata": {},
   "source": [
    "## Ajuste do modelo"
   ]
  },
  {
   "cell_type": "code",
   "execution_count": null,
   "id": "84c298c9",
   "metadata": {},
   "outputs": [],
   "source": [
    "modelo = sm.Logit(y, X)\n",
    "resultado = modelo.fit()"
   ]
  },
  {
   "cell_type": "markdown",
   "id": "ba5b1c56",
   "metadata": {},
   "source": [
    "##  Resultados do modelo"
   ]
  },
  {
   "cell_type": "code",
   "execution_count": null,
   "id": "68f37e5e",
   "metadata": {},
   "outputs": [],
   "source": [
    "print(resultado.summary())"
   ]
  },
  {
   "cell_type": "markdown",
   "id": "dc360437",
   "metadata": {},
   "source": [
    "### Odds ratio"
   ]
  },
  {
   "cell_type": "code",
   "execution_count": null,
   "id": "0ca18f94",
   "metadata": {},
   "outputs": [],
   "source": [
    "\n",
    "# Armazenando as informações do cabeçalho\n",
    "header_info = {\n",
    "    'Dep. Variable': resultado.model.endog_names,\n",
    "    'No. Observations': resultado.nobs,\n",
    "    'Model': 'Logit',\n",
    "    'Df Residuals': resultado.df_resid,\n",
    "    'Method': 'MLE',\n",
    "    'Df Model': resultado.df_model,\n",
    "    'Date': 'Tue, 11 Jun 2024',\n",
    "    'Pseudo R-squ.': resultado.prsquared,\n",
    "    'Time': '10:41:29',\n",
    "    'Log-Likelihood': resultado.llf,\n",
    "    'converged': resultado.mle_retvals['converged'],\n",
    "    'LL-Null': resultado.llnull,\n",
    "    'Covariance Type': 'nonrobust',\n",
    "    'LLR p-value': resultado.llr_pvalue,\n",
    "}\n",
    "\n",
    "# Imprimindo as informações do cabeçalho\n",
    "for key, value in header_info.items():\n",
    "    print(f'{key}: {value}')\n",
    "\n",
    "# Calculando os odds-ratios\n",
    "odds_ratios = np.exp(resultado.params)\n",
    "\n",
    "# Criando um DataFrame para o sumário estendido\n",
    "summary_df = pd.DataFrame()\n",
    "summary_df['coef'] = resultado.params\n",
    "summary_df['std err'] = resultado.bse\n",
    "summary_df['z'] = resultado.tvalues\n",
    "summary_df['P>|z|'] = resultado.pvalues\n",
    "summary_df['[0.025'] = resultado.conf_int()[0]\n",
    "summary_df['0.975]'] = resultado.conf_int()[1]\n",
    "summary_df['odds_ratio'] = odds_ratios\n",
    "\n",
    "# Imprimindo o sumário estendido\n",
    "summary_df"
   ]
  }
 ],
 "metadata": {
  "kernelspec": {
   "display_name": "Python 3 (ipykernel)",
   "language": "python",
   "name": "python3"
  },
  "language_info": {
   "codemirror_mode": {
    "name": "ipython",
    "version": 3
   },
   "file_extension": ".py",
   "mimetype": "text/x-python",
   "name": "python",
   "nbconvert_exporter": "python",
   "pygments_lexer": "ipython3",
   "version": "3.11.7"
  }
 },
 "nbformat": 4,
 "nbformat_minor": 5
}
