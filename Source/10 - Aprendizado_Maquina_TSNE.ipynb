{
 "cells": [
  {
   "cell_type": "markdown",
   "id": "d22481da-44c2-4e51-a32f-a0c2d711c053",
   "metadata": {},
   "source": [
    "# Obtenção e tratamento de dados"
   ]
  },
  {
   "cell_type": "markdown",
   "id": "370ec855-083f-4859-bf92-513517deb207",
   "metadata": {
    "jp-MarkdownHeadingCollapsed": true
   },
   "source": [
    "## Obtenção e carregamento de dados  "
   ]
  },
  {
   "cell_type": "code",
   "execution_count": null,
   "id": "fe43db2f-1929-4b0b-8a5c-23317b96f039",
   "metadata": {},
   "outputs": [],
   "source": [
    "#importação de bibliotecas\n",
    "import pandas as pd\n",
    "import matplotlib.pyplot as plt\n",
    "from sklearn.cluster import KMeans\n",
    "from sklearn.manifold import TSNE\n",
    "from sklearn.preprocessing import StandardScaler, OneHotEncoder\n",
    "from sklearn.metrics import silhouette_score"
   ]
  },
  {
   "cell_type": "code",
   "execution_count": null,
   "id": "346d7e4c-618a-4b2e-80cb-3c007ebbc59e",
   "metadata": {},
   "outputs": [],
   "source": [
    "#Carregamento de dados limpos da pasta ../data/\n",
    "df = pd.read_csv('../Data/dataset.csv')"
   ]
  },
  {
   "cell_type": "markdown",
   "id": "398162c0",
   "metadata": {},
   "source": [
    "## Informações sobre o dataset"
   ]
  },
  {
   "cell_type": "code",
   "execution_count": null,
   "id": "614d22be",
   "metadata": {},
   "outputs": [],
   "source": [
    "#Exibição dos dados\n",
    "df.head()"
   ]
  },
  {
   "cell_type": "code",
   "execution_count": null,
   "id": "e9a15af6",
   "metadata": {},
   "outputs": [],
   "source": [
    "#Exibição de informações sobre os dados\n",
    "df.info()"
   ]
  },
  {
   "cell_type": "code",
   "execution_count": null,
   "id": "5c095b3a",
   "metadata": {},
   "outputs": [],
   "source": [
    "#Exibição de estatísticas descritivas\n",
    "df.describe()"
   ]
  },
  {
   "cell_type": "markdown",
   "id": "9ef91847",
   "metadata": {},
   "source": [
    "## Ajuste de tipos"
   ]
  },
  {
   "cell_type": "code",
   "execution_count": null,
   "id": "9a66a139",
   "metadata": {},
   "outputs": [],
   "source": [
    "#Matricula\n",
    "df['dt_matricula'] = pd.to_datetime(df['dt_matricula'])\n",
    "#Saida\n",
    "df['dt_saida'] = pd.to_datetime(df['dt_saida'])\n",
    "#Primeiro login\n",
    "df['primeiro_login'] = pd.to_datetime(df['primeiro_login'])\n",
    "#Ultimo login\n",
    "df['ultimo_login'] = pd.to_datetime(df['ultimo_login'])\n",
    "\n",
    "#Idade\n",
    "df['idade'] = df['idade'].astype('int64')\n",
    "#Total de logins\n",
    "df['total_logins'] = df['total_logins'].astype('int64')\n",
    "#Dias desde o primeiro login\n",
    "df['dias_desde_primeiro_login'] = df['dias_desde_primeiro_login'].astype('int64')\n",
    "# Quantidade Mestrado\n",
    "df['qtd_professores_mestrado'] = df['qtd_professores_mestrado'].astype('int64')\n",
    "# Quantidade Doutorado\n",
    "df['qtd_professores_doutorado'] = df['qtd_professores_doutorado'].astype('int64')\n",
    "# Quantidade Especialização\n",
    "df['qtd_professores_especialista'] = df['qtd_professores_especialista'].astype('int64')\n",
    "# Quantidade Graduado\n",
    "df['qtd_professores_graduado'] = df['qtd_professores_graduado'].astype('int64')\n",
    "# Quantidade de professores Masculino\n",
    "df['qtd_professores_M'] = df['qtd_professores_M'].astype('int64')\n",
    "# Quantidade de professores Feminino\n",
    "df['qtd_professores_F'] = df['qtd_professores_F'].astype('int64')\n",
    "# Menor idade de um professor\n",
    "df['idade_min_professores'] = df['idade_min_professores'].astype('int64')\n",
    "# Maior idade de um professor\n",
    "df['idade_max_professores'] = df['idade_max_professores'].astype('int64')\n",
    "\n",
    "#Data de registro para string\n",
    "df['dt_registro'] = df['dt_registro'].astype(object)\n",
    "#Data de inauguração do curso\n",
    "df['dt_inauguracao_curso'] = df['dt_inauguracao_curso'].astype(object)\n",
    "\n",
    "#Exibição de informações sobre os dados\n",
    "df.info()\n",
    "#Exibição de estatísticas descritivas\n",
    "df.head()\n"
   ]
  },
  {
   "cell_type": "markdown",
   "id": "541eb855",
   "metadata": {},
   "source": [
    "## Tratamento de valores ausentes"
   ]
  },
  {
   "cell_type": "code",
   "execution_count": null,
   "id": "137bcf2e",
   "metadata": {},
   "outputs": [],
   "source": [
    "#preenche com o texto \"Abandono\" os valores nulos da coluna 'categoria_motivo_cancelamento'\n",
    "df['categoria_motivo_cancelamento'] = df['categoria_motivo_cancelamento'].fillna('Abandono').where(df['evasao'] == 1,'NA')\n",
    "\n",
    "#Exibe os valores unicos da coluna 'categoria_motivo_cancelamento'\n",
    "df['categoria_motivo_cancelamento'].unique()"
   ]
  },
  {
   "cell_type": "markdown",
   "id": "4e6e248f",
   "metadata": {},
   "source": [
    "Exibição dos dados"
   ]
  },
  {
   "cell_type": "code",
   "execution_count": null,
   "id": "4848e0ee",
   "metadata": {},
   "outputs": [],
   "source": [
    "#Exibe as informações sobre os dados\n",
    "df.info()\n",
    "#Exibe as estatísticas descritivas\n",
    "df.head()"
   ]
  },
  {
   "cell_type": "markdown",
   "id": "007078f6",
   "metadata": {},
   "source": [
    "# Aprendizado de Maquina (Clusterização - KMeans + T-SNE)"
   ]
  },
  {
   "cell_type": "markdown",
   "id": "e96136ca",
   "metadata": {},
   "source": [
    "## Amostra dos dados"
   ]
  },
  {
   "cell_type": "code",
   "execution_count": null,
   "id": "0bfd93b2",
   "metadata": {},
   "outputs": [],
   "source": [
    "df.head()"
   ]
  },
  {
   "cell_type": "markdown",
   "id": "c94df191",
   "metadata": {},
   "source": [
    "## Remoção de variaveis correlacionadas"
   ]
  },
  {
   "cell_type": "code",
   "execution_count": null,
   "id": "f72f00a5",
   "metadata": {},
   "outputs": [],
   "source": [
    "# Exclua as colunas que não serão usadas\n",
    "df = df.drop(['cd_aluno','nome', 'curso','cidade','titulacao', 'estado', 'semestre_atual','dias_matriculado_semestre','total_logins','qtd_aprovacoes','valor_mensalidade_bruto', 'percentual_desconto','dias_desde_primeiro_login', 'dt_registro', 'dt_inauguracao_curso','dt_matricula', 'dt_saida', 'primeiro_login', 'ultimo_login', 'idade_min_professores', 'idade_max_professores'], axis=1)"
   ]
  },
  {
   "cell_type": "markdown",
   "id": "85605ed4",
   "metadata": {},
   "source": [
    "## Separação de variaveis categoricas e numericas"
   ]
  },
  {
   "cell_type": "code",
   "execution_count": null,
   "id": "30f0d440",
   "metadata": {},
   "outputs": [],
   "source": [
    "# Defina as colunas numéricas e categóricas\n",
    "num_cols = (df.select_dtypes(include=['int64', 'float64']).columns).where(df.select_dtypes(include=['int64', 'float64']).columns != 'evasao').dropna().tolist()\n",
    "cat_cols = ['genero', 'ds_ensino_medio', 'ds_ingresso', 'cd_curso', 'situacao', 'categoria_motivo_cancelamento']"
   ]
  },
  {
   "cell_type": "markdown",
   "id": "ac6b4a93",
   "metadata": {},
   "source": [
    "## Normalização e codificação das variaveis"
   ]
  },
  {
   "cell_type": "markdown",
   "id": "a77e418c",
   "metadata": {},
   "source": [
    "### Normalização das variáveis numericas"
   ]
  },
  {
   "cell_type": "code",
   "execution_count": null,
   "id": "f9d864ed",
   "metadata": {},
   "outputs": [],
   "source": [
    "# Cria uma cópia do DataFrame principal para normalizar as colunas numéricas\n",
    "df_norm = df.copy()\n",
    "\n",
    "# Cria uma instância do StandardScaler\n",
    "scaler = StandardScaler()\n",
    "# Normaliza as colunas numéricas e substitui no DataFrame normalizado\n",
    "df_norm[num_cols] = scaler.fit_transform(df_norm[num_cols])\n",
    "\n",
    "#Adiciona a coluna 'evasao' ao DataFrame normalizado na primeira posição\n",
    "df_norm = pd.concat([df_norm['evasao'], df_norm.drop('evasao', axis=1)], axis=1)\n",
    "\n",
    "df_norm.head()"
   ]
  },
  {
   "cell_type": "markdown",
   "id": "3cef3303",
   "metadata": {},
   "source": [
    "### Codificação das variáveis categoricas"
   ]
  },
  {
   "cell_type": "code",
   "execution_count": null,
   "id": "ae6940ae",
   "metadata": {},
   "outputs": [],
   "source": [
    "# Cria uma instância do OneHotEncoder com a opção de remover a primeira coluna\n",
    "encoder = OneHotEncoder(drop='first')\n",
    "\n",
    "# Codifica as colunas categóricas\n",
    "df_encoded = encoder.fit_transform(df_norm[cat_cols])\n",
    "\n",
    "# Criando os nomes das colunas\n",
    "column_names = encoder.get_feature_names_out(cat_cols)\n",
    "\n",
    "# Criando um dataframe com os dados codificados\n",
    "df_encoded = pd.DataFrame(df_encoded.toarray(), columns=column_names)\n",
    "\n",
    "# Concatenando os dataframes\n",
    "df_norm = pd.concat([df_norm, df_encoded], axis=1)\n",
    "\n",
    "# Removendo as colunas categóricas originais\n",
    "df_norm = df_norm.drop(cat_cols, axis=1)\n",
    "\n",
    "# Exibe as informações sobre os dados\n",
    "df_norm.info()\n",
    "\n",
    "# Exibe uma amostra dos dados\n",
    "df_norm.head(10)"
   ]
  },
  {
   "cell_type": "markdown",
   "id": "0adbcc39",
   "metadata": {},
   "source": [
    "## Remoção de variavel alvo"
   ]
  },
  {
   "cell_type": "code",
   "execution_count": null,
   "id": "bc3183b7",
   "metadata": {},
   "outputs": [],
   "source": [
    "# Removendo temporariamente a coluna 'evasao' para não influenciar o modelo\n",
    "df_sem_alvo = df_norm.drop('evasao', axis=1)\n",
    "\n",
    "#Cria uma copia do dataframe principal para ser usado no modelo\n",
    "df_modelo = df_norm.copy()\n",
    "\n",
    "df_modelo.head()"
   ]
  },
  {
   "cell_type": "markdown",
   "id": "96670ed8",
   "metadata": {},
   "source": [
    "## Redução de dimensionalidade"
   ]
  },
  {
   "cell_type": "code",
   "execution_count": null,
   "id": "2efa0cd6",
   "metadata": {},
   "outputs": [],
   "source": [
    "# Ajuste do t-SNE\n",
    "tsne = TSNE(n_components=2, random_state=42, perplexity=40, learning_rate=150,n_iter=2000, metric='cosine')\n",
    "df_tsne = tsne.fit_transform(df_sem_alvo)\n",
    "\n",
    "# Convertendo o resultado do t-SNE em um DataFrame\n",
    "df_tsne = pd.DataFrame(df_tsne, columns=['x', 'y'])\n",
    "\n",
    "# Concatenando os dataframes\n",
    "df_norm = pd.concat([df_norm, df_tsne], axis=1)\n",
    "\n",
    "# Atribui os valores do t-SNE ao dataframe usado para o modelo\n",
    "df_modelo = df_tsne.copy()\n",
    "\n",
    "df_modelo.head()"
   ]
  },
  {
   "cell_type": "markdown",
   "id": "54cac46c",
   "metadata": {},
   "source": [
    "## Definição do número de clusters (Elbow Method)"
   ]
  },
  {
   "cell_type": "code",
   "execution_count": null,
   "id": "35ecf352",
   "metadata": {},
   "outputs": [],
   "source": [
    "# Método do cotovelo#\n",
    "wcss = []\n",
    "# Testando de 1 a 10 clusters\n",
    "for i in range(1, 11):\n",
    "    kmeans = KMeans(n_clusters=i, init='k-means++', max_iter=300, n_init=10, random_state=0)\n",
    "    kmeans.fit(df_norm)\n",
    "    wcss.append(kmeans.inertia_)\n",
    "\n",
    "# Exibindo o método do cotovelo\n",
    "plt.figure(figsize=(10, 6))\n",
    "plt.plot(range(1, 11), wcss, marker='o')\n",
    "plt.title('Método do Cotovelo')\n",
    "plt.xlabel('Número de clusters')\n",
    "plt.xticks(range(1, 11))\n",
    "plt.ylabel('WCSS')\n",
    "plt.show()"
   ]
  },
  {
   "cell_type": "markdown",
   "id": "56f74a35",
   "metadata": {},
   "source": [
    "## Ajuste do modelo"
   ]
  },
  {
   "cell_type": "code",
   "execution_count": null,
   "id": "01a19f27",
   "metadata": {},
   "outputs": [],
   "source": [
    "# Ajuste do modelo de clusterização nos dados transformados\n",
    "kmeans = KMeans(n_clusters=5, n_init=10, random_state=42)\n",
    "kmeans.fit(df_modelo)\n",
    "\n",
    "# Adicionando os labels dos clusters ao dataframe normalizado\n",
    "df_norm['cluster'] = kmeans.labels_\n",
    "\n",
    "# Adicionando os labels dos clusters ao dataframe principal\n",
    "df['cluster'] = kmeans.labels_\n",
    "\n",
    "df.info()"
   ]
  },
  {
   "cell_type": "markdown",
   "id": "a2656ee6",
   "metadata": {},
   "source": [
    "## Avaliação do modelo"
   ]
  },
  {
   "cell_type": "markdown",
   "id": "64b0ccc8",
   "metadata": {},
   "source": [
    "### Silhouette Score"
   ]
  },
  {
   "cell_type": "code",
   "execution_count": null,
   "id": "a804aa55",
   "metadata": {},
   "outputs": [],
   "source": [
    "# Calculando a pontuação da silhueta\n",
    "score = silhouette_score(df_modelo, kmeans.labels_)\n",
    "\n",
    "print('Silhouette Score: ', score)"
   ]
  },
  {
   "cell_type": "markdown",
   "id": "3335238e",
   "metadata": {},
   "source": [
    "## Visualização dos clusters"
   ]
  },
  {
   "cell_type": "markdown",
   "id": "ac5f5d23",
   "metadata": {},
   "source": [
    "### Visualização dos clusters em 2D"
   ]
  },
  {
   "cell_type": "code",
   "execution_count": null,
   "id": "c7b41829",
   "metadata": {},
   "outputs": [],
   "source": [
    "# Criando uma figura e um eixo\n",
    "fig, ax = plt.subplots( figsize=(10, 7))\n",
    "\n",
    "# Criando uma lista de cores para cada cluster\n",
    "colors=[ '#FFC75F', '#FF9671', '#FF6F91', '#D65DB1', '#845EC2']\n",
    "\n",
    "# Plotando cada cluster\n",
    "for i in range(5):\n",
    "    # Selecionando apenas os pontos de dados neste cluster\n",
    "    cluster = df_norm[df_norm['cluster'] == i]\n",
    "    ax.scatter(cluster['x'], cluster['y'], c=colors[i], label=f'Cluster {i}', alpha=0.5)\n",
    "\n",
    "# Adicionando uma legenda\n",
    "ax.legend()\n",
    "plt.title('Visualização dos Clusters de estudantes com t-SNE')\n",
    "plt.show()"
   ]
  },
  {
   "cell_type": "markdown",
   "id": "f1ff5900",
   "metadata": {},
   "source": [
    "### Médias dos clusters"
   ]
  },
  {
   "cell_type": "code",
   "execution_count": null,
   "id": "f039ff7c",
   "metadata": {},
   "outputs": [],
   "source": [
    "# Adiciona a coluna 'evasao' a lista de colunas numericas\n",
    "num_cols.insert(0, 'evasao')\n",
    "\n",
    "#Atribui a variavel 'cluster_means' a média de cada coluna numerica (num_cols) + a coluna evasao por cluster do DataFrame 'df'\n",
    "cluster_means = df.groupby('cluster')[num_cols].mean()\n",
    "\n",
    "# Exibindo a média de cada coluna por cluster\n",
    "cluster_means.head()"
   ]
  },
  {
   "cell_type": "markdown",
   "id": "702bd323",
   "metadata": {},
   "source": [
    "## Exportação dos resultados"
   ]
  },
  {
   "cell_type": "code",
   "execution_count": null,
   "id": "282e46ad",
   "metadata": {},
   "outputs": [],
   "source": [
    "df.to_csv('../data/dataset_clustered.csv', index=False)\n",
    "\n",
    "df.info()"
   ]
  }
 ],
 "metadata": {
  "kernelspec": {
   "display_name": "Python 3 (ipykernel)",
   "language": "python",
   "name": "python3"
  },
  "language_info": {
   "codemirror_mode": {
    "name": "ipython",
    "version": 3
   },
   "file_extension": ".py",
   "mimetype": "text/x-python",
   "name": "python",
   "nbconvert_exporter": "python",
   "pygments_lexer": "ipython3",
   "version": "3.11.7"
  }
 },
 "nbformat": 4,
 "nbformat_minor": 5
}
