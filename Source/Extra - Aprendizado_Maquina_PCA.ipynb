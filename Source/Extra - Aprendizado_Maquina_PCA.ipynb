{
 "cells": [
  {
   "cell_type": "markdown",
   "id": "d22481da-44c2-4e51-a32f-a0c2d711c053",
   "metadata": {},
   "source": [
    "# Obtenção e tratamento de dados"
   ]
  },
  {
   "cell_type": "markdown",
   "id": "370ec855-083f-4859-bf92-513517deb207",
   "metadata": {
    "jp-MarkdownHeadingCollapsed": true
   },
   "source": [
    "## Obtenção e carregamento de dados  "
   ]
  },
  {
   "cell_type": "code",
   "execution_count": null,
   "id": "fe43db2f-1929-4b0b-8a5c-23317b96f039",
   "metadata": {},
   "outputs": [],
   "source": [
    "#importação de bibliotecas\n",
    "import pandas as pd\n",
    "import numpy as np\n",
    "import matplotlib.pyplot as plt\n",
    "from sklearn.cluster import KMeans\n",
    "from sklearn.decomposition import PCA\n",
    "from sklearn.preprocessing import StandardScaler, OneHotEncoder\n",
    "from sklearn.metrics import silhouette_score"
   ]
  },
  {
   "cell_type": "code",
   "execution_count": null,
   "id": "346d7e4c-618a-4b2e-80cb-3c007ebbc59e",
   "metadata": {},
   "outputs": [],
   "source": [
    "#Carregamento de dados limpos da pasta ../data/\n",
    "df = pd.read_csv('../Data/dataset.csv')"
   ]
  },
  {
   "cell_type": "markdown",
   "id": "398162c0",
   "metadata": {},
   "source": [
    "## Informações sobre o dataset"
   ]
  },
  {
   "cell_type": "code",
   "execution_count": null,
   "id": "614d22be",
   "metadata": {},
   "outputs": [],
   "source": [
    "#Exibição dos dados\n",
    "df.head()"
   ]
  },
  {
   "cell_type": "code",
   "execution_count": null,
   "id": "e9a15af6",
   "metadata": {},
   "outputs": [],
   "source": [
    "#Exibição de informações sobre os dados\n",
    "df.info()"
   ]
  },
  {
   "cell_type": "code",
   "execution_count": null,
   "id": "5c095b3a",
   "metadata": {},
   "outputs": [],
   "source": [
    "#Exibição de estatísticas descritivas\n",
    "df.describe()"
   ]
  },
  {
   "cell_type": "markdown",
   "id": "9ef91847",
   "metadata": {},
   "source": [
    "## Ajuste de tipos"
   ]
  },
  {
   "cell_type": "code",
   "execution_count": null,
   "id": "9a66a139",
   "metadata": {},
   "outputs": [],
   "source": [
    "#Matricula\n",
    "df['dt_matricula'] = pd.to_datetime(df['dt_matricula'])\n",
    "#Saida\n",
    "df['dt_saida'] = pd.to_datetime(df['dt_saida'])\n",
    "#Primeiro login\n",
    "df['primeiro_login'] = pd.to_datetime(df['primeiro_login'])\n",
    "#Ultimo login\n",
    "df['ultimo_login'] = pd.to_datetime(df['ultimo_login'])\n",
    "\n",
    "#Idade\n",
    "df['idade'] = df['idade'].astype('int64')\n",
    "#Total de logins\n",
    "df['total_logins'] = df['total_logins'].astype('int64')\n",
    "#Dias desde o primeiro login\n",
    "df['dias_desde_primeiro_login'] = df['dias_desde_primeiro_login'].astype('int64')\n",
    "# Quantidade Mestrado\n",
    "df['qtd_professores_mestrado'] = df['qtd_professores_mestrado'].astype('int64')\n",
    "# Quantidade Doutorado\n",
    "df['qtd_professores_doutorado'] = df['qtd_professores_doutorado'].astype('int64')\n",
    "# Quantidade Especialização\n",
    "df['qtd_professores_especialista'] = df['qtd_professores_especialista'].astype('int64')\n",
    "# Quantidade Graduado\n",
    "df['qtd_professores_graduado'] = df['qtd_professores_graduado'].astype('int64')\n",
    "# Quantidade de professores Masculino\n",
    "df['qtd_professores_M'] = df['qtd_professores_M'].astype('int64')\n",
    "# Quantidade de professores Feminino\n",
    "df['qtd_professores_F'] = df['qtd_professores_F'].astype('int64')\n",
    "# Menor idade de um professor\n",
    "df['idade_min_professores'] = df['idade_min_professores'].astype('int64')\n",
    "# Maior idade de um professor\n",
    "df['idade_max_professores'] = df['idade_max_professores'].astype('int64')\n",
    "\n",
    "#Data de registro para string\n",
    "df['dt_registro'] = df['dt_registro'].astype(object)\n",
    "#Data de inauguração do curso\n",
    "df['dt_inauguracao_curso'] = df['dt_inauguracao_curso'].astype(object)\n",
    "\n",
    "#Exibição de informações sobre os dados\n",
    "df.info()\n",
    "#Exibição de estatísticas descritivas\n",
    "df.head()\n"
   ]
  },
  {
   "cell_type": "markdown",
   "id": "541eb855",
   "metadata": {},
   "source": [
    "## Tratamento de valores ausentes"
   ]
  },
  {
   "cell_type": "code",
   "execution_count": null,
   "id": "137bcf2e",
   "metadata": {},
   "outputs": [],
   "source": [
    "#preenche com o texto \"Abandono\" os valores nulos da coluna 'categoria_motivo_cancelamento'\n",
    "df['categoria_motivo_cancelamento'] = df['categoria_motivo_cancelamento'].fillna('Abandono').where(df['evasao'] == 1,'NA')\n",
    "\n",
    "#Exibe os valores unicos da coluna 'categoria_motivo_cancelamento'\n",
    "df['categoria_motivo_cancelamento'].unique()"
   ]
  },
  {
   "cell_type": "markdown",
   "id": "4e6e248f",
   "metadata": {},
   "source": [
    "Exibição dos dados"
   ]
  },
  {
   "cell_type": "code",
   "execution_count": null,
   "id": "4848e0ee",
   "metadata": {},
   "outputs": [],
   "source": [
    "#Exibe as informações sobre os dados\n",
    "df.info()\n",
    "#Exibe as estatísticas descritivas\n",
    "df.head()"
   ]
  },
  {
   "cell_type": "markdown",
   "id": "007078f6",
   "metadata": {},
   "source": [
    "# Aprendizado de Maquina (Clusterização - KMeans + PCA)"
   ]
  },
  {
   "cell_type": "markdown",
   "id": "e96136ca",
   "metadata": {},
   "source": [
    "## Amostra dos dados"
   ]
  },
  {
   "cell_type": "code",
   "execution_count": null,
   "id": "0bfd93b2",
   "metadata": {},
   "outputs": [],
   "source": [
    "df.head()"
   ]
  },
  {
   "cell_type": "markdown",
   "id": "85605ed4",
   "metadata": {},
   "source": [
    "## Remoção de variáveis correlacionadas"
   ]
  },
  {
   "cell_type": "code",
   "execution_count": null,
   "id": "c82e3412",
   "metadata": {},
   "outputs": [],
   "source": [
    "# Exclua as colunas que não serão usadas\n",
    "df = df.drop(['cd_aluno','nome', 'curso','cidade','titulacao', 'estado', 'semestre_atual','dias_matriculado_semestre','total_logins','qtd_aprovacoes','valor_mensalidade_bruto', 'percentual_desconto','dias_desde_primeiro_login', 'dt_registro', 'dt_inauguracao_curso','dt_matricula', 'dt_saida', 'primeiro_login', 'ultimo_login', 'idade_min_professores', 'idade_max_professores'], axis=1)"
   ]
  },
  {
   "cell_type": "markdown",
   "id": "8b6bab2e",
   "metadata": {},
   "source": [
    "## Separação de variaveis categoricas e numericas"
   ]
  },
  {
   "cell_type": "code",
   "execution_count": null,
   "id": "30f0d440",
   "metadata": {},
   "outputs": [],
   "source": [
    "# Defina as colunas numéricas e categóricas\n",
    "num_cols = df.select_dtypes(include=['int64', 'float64']).columns\n",
    "cat_cols = ['genero', 'ds_ensino_medio', 'ds_ingresso', 'cd_curso', 'situacao', 'categoria_motivo_cancelamento']"
   ]
  },
  {
   "cell_type": "markdown",
   "id": "ac6b4a93",
   "metadata": {},
   "source": [
    "## Normalização e codificação das variaveis"
   ]
  },
  {
   "cell_type": "markdown",
   "id": "a77e418c",
   "metadata": {},
   "source": [
    "### Normalização das variáveis numericas"
   ]
  },
  {
   "cell_type": "code",
   "execution_count": null,
   "id": "f9d864ed",
   "metadata": {},
   "outputs": [],
   "source": [
    "scaler = StandardScaler()\n",
    "df[num_cols] = scaler.fit_transform(df[num_cols])\n",
    "\n",
    "# Exibe uma amostra dos dados\n",
    "df.head()"
   ]
  },
  {
   "cell_type": "markdown",
   "id": "3cef3303",
   "metadata": {},
   "source": [
    "### Codificação das variáveis categoricas"
   ]
  },
  {
   "cell_type": "code",
   "execution_count": null,
   "id": "ae6940ae",
   "metadata": {},
   "outputs": [],
   "source": [
    "# Codificando as colunas categóricas\n",
    "encoder = OneHotEncoder(drop='first')\n",
    "df_encoded = encoder.fit_transform(df[cat_cols])\n",
    "\n",
    "# Criando os nomes das colunas\n",
    "column_names = encoder.get_feature_names_out(cat_cols)\n",
    "\n",
    "# Criando um dataframe com os dados codificados\n",
    "df_encoded = pd.DataFrame(df_encoded.toarray(), columns=column_names)\n",
    "\n",
    "# Concatenando os dataframes\n",
    "df = pd.concat([df, df_encoded], axis=1)\n",
    "\n",
    "# Removendo as colunas categóricas originais\n",
    "df = df.drop(cat_cols, axis=1)\n",
    "\n",
    "# Exibe as informações sobre os dados\n",
    "df.info()\n",
    "\n",
    "# Exibe uma amostra dos dados\n",
    "df.head(10)"
   ]
  },
  {
   "cell_type": "markdown",
   "id": "5871da23",
   "metadata": {},
   "source": [
    "## Remoção de variável alvo"
   ]
  },
  {
   "cell_type": "code",
   "execution_count": null,
   "id": "8ac83b80",
   "metadata": {},
   "outputs": [],
   "source": [
    "# Removendo temporariamente a coluna 'evasao' para não influenciar o modelo\n",
    "df_sem_alvo = df.drop('evasao', axis=1)\n",
    "\n",
    "#Cria uma copia do dataframe principal para ser usado no modelo\n",
    "df_modelo = df.copy()"
   ]
  },
  {
   "cell_type": "markdown",
   "id": "5d38290d",
   "metadata": {},
   "source": [
    "## Redução de dimensionalidade"
   ]
  },
  {
   "cell_type": "markdown",
   "id": "a6901c67",
   "metadata": {},
   "source": [
    "### Análise da variância explicada"
   ]
  },
  {
   "cell_type": "code",
   "execution_count": null,
   "id": "2efa0cd6",
   "metadata": {},
   "outputs": [],
   "source": [
    "# Ajuste do PCA com todos os componentes\n",
    "pca = PCA()\n",
    "pca.fit(df_sem_alvo)\n",
    "\n",
    "# Cálculo da variação explicada cumulativa\n",
    "cumulative_explained_variance = np.cumsum(pca.explained_variance_ratio_)\n",
    "\n",
    "# Plot da variação explicada cumulativa\n",
    "plt.figure(figsize=(10,6))\n",
    "plt.plot(range(len(cumulative_explained_variance)), cumulative_explained_variance)\n",
    "plt.title('Variação Explicada Cumulativa por Número de Componentes Principais')\n",
    "plt.xlabel('Número de componentes')\n",
    "plt.ylabel('Variação explicada cumulativa')\n",
    "plt.show()"
   ]
  },
  {
   "cell_type": "markdown",
   "id": "56a9f029",
   "metadata": {},
   "source": [
    "### Ajuste do número de componentes"
   ]
  },
  {
   "cell_type": "code",
   "execution_count": null,
   "id": "52376ced",
   "metadata": {},
   "outputs": [],
   "source": [
    "# Ajuste do PCA\n",
    "pca = PCA(n_components=10)\n",
    "df_pca = pca.fit_transform(df_sem_alvo)\n",
    "\n",
    "# Cria um dataframe com os componentes principais\n",
    "df_pca = pd.DataFrame(df_pca, columns=[f'PC{i+1}' for i in range(10)])\n",
    "\n",
    "#Concatena os dados do PCA com o dataframe principal\n",
    "df = pd.concat([df, df_pca], axis=1)\n",
    "\n",
    "# Atribui os valores do PCA ao dataframe de modelo\n",
    "df_modelo = df_pca.copy()"
   ]
  },
  {
   "cell_type": "markdown",
   "id": "54cac46c",
   "metadata": {},
   "source": [
    "## Definição do número de clusters (Elbow Method)"
   ]
  },
  {
   "cell_type": "code",
   "execution_count": null,
   "id": "35ecf352",
   "metadata": {},
   "outputs": [],
   "source": [
    "# Método do cotovelo#\n",
    "wcss = []\n",
    "# Testando de 1 a 10 clusters\n",
    "for i in range(1, 11):\n",
    "    kmeans = KMeans(n_clusters=i, init='k-means++', max_iter=300, n_init=10, random_state=0)\n",
    "    kmeans.fit(df)\n",
    "    wcss.append(kmeans.inertia_)\n",
    "\n",
    "# Exibindo o método do cotovelo\n",
    "plt.figure(figsize=(10, 6))\n",
    "plt.plot(range(1, 11), wcss, marker='o')\n",
    "plt.title('Método do Cotovelo')\n",
    "plt.xlabel('Número de clusters')\n",
    "plt.xticks(range(1, 11))\n",
    "plt.ylabel('WCSS')\n",
    "plt.show()"
   ]
  },
  {
   "cell_type": "markdown",
   "id": "56f74a35",
   "metadata": {},
   "source": [
    "## Ajuste do modelo"
   ]
  },
  {
   "cell_type": "code",
   "execution_count": null,
   "id": "01a19f27",
   "metadata": {},
   "outputs": [],
   "source": [
    "# Ajuste do modelo de clusterização nos dados transformados pelo PCA\n",
    "kmeans = KMeans(n_clusters=2, n_init=10, random_state=42)\n",
    "kmeans.fit(df_modelo)\n",
    "\n",
    "# Adicionando os labels dos clusters ao dataframe\n",
    "df['cluster'] = kmeans.labels_\n"
   ]
  },
  {
   "cell_type": "markdown",
   "id": "a2656ee6",
   "metadata": {},
   "source": [
    "## Avaliação do modelo"
   ]
  },
  {
   "cell_type": "markdown",
   "id": "64b0ccc8",
   "metadata": {},
   "source": [
    "### Silhouette Score"
   ]
  },
  {
   "cell_type": "code",
   "execution_count": null,
   "id": "a804aa55",
   "metadata": {},
   "outputs": [],
   "source": [
    "# Calculando a pontuação da silhueta\n",
    "score = silhouette_score(df_modelo, kmeans.labels_)\n",
    "\n",
    "print('Silhouette Score: ', score)"
   ]
  },
  {
   "cell_type": "markdown",
   "id": "3335238e",
   "metadata": {},
   "source": [
    "## Visualização dos clusters"
   ]
  },
  {
   "cell_type": "markdown",
   "id": "0e42ca37",
   "metadata": {},
   "source": [
    "### Visualização dos clusters em 2D"
   ]
  },
  {
   "cell_type": "code",
   "execution_count": null,
   "id": "c7b41829",
   "metadata": {},
   "outputs": [],
   "source": [
    "# Criando uma figura e um eixo\n",
    "fig, ax = plt.subplots( figsize=(10, 7))\n",
    "\n",
    "# Criando uma lista de cores para cada cluster\n",
    "colors=[ '#FFC75F', '#FF9671', '#FF6F91', '#D65DB1', '#845EC2']\n",
    "\n",
    "# Plotando cada cluster\n",
    "for i in range(2):\n",
    "    # Selecionando apenas os pontos de dados neste cluster\n",
    "    cluster = df[df['cluster'] == i]\n",
    "    ax.scatter(cluster['PC1'], cluster['PC2'], c=colors[i], label=f'Cluster {i+1}', alpha=0.5)\n",
    "\n",
    "# Adicionando uma legenda\n",
    "ax.legend()\n",
    "plt.title('Visualização dos Clusters de estudantes com PCA')\n",
    "plt.show()"
   ]
  },
  {
   "cell_type": "markdown",
   "id": "7a991dc9",
   "metadata": {},
   "source": [
    "### Médias dos clusters"
   ]
  },
  {
   "cell_type": "code",
   "execution_count": null,
   "id": "56e3a519",
   "metadata": {},
   "outputs": [],
   "source": [
    "# Calculando a média de cada coluna para cada cluster\n",
    "cluster_means = df.groupby('cluster').mean()\n",
    "\n",
    "#Coloca a coluna 'evasao' na primeira posição\n",
    "col = cluster_means.pop('evasao')\n",
    "cluster_means.insert(0, 'evasao', col)\n",
    "\n",
    "# Exibindo a média de cada coluna por cluster\n",
    "cluster_means.head()"
   ]
  }
 ],
 "metadata": {
  "kernelspec": {
   "display_name": "Python 3 (ipykernel)",
   "language": "python",
   "name": "python3"
  },
  "language_info": {
   "codemirror_mode": {
    "name": "ipython",
    "version": 3
   },
   "file_extension": ".py",
   "mimetype": "text/x-python",
   "name": "python",
   "nbconvert_exporter": "python",
   "pygments_lexer": "ipython3",
   "version": "3.11.7"
  }
 },
 "nbformat": 4,
 "nbformat_minor": 5
}
